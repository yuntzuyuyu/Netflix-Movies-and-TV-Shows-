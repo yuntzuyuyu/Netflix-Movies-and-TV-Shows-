{
 "cells": [
  {
   "cell_type": "markdown",
   "id": "ee198721",
   "metadata": {},
   "source": [
    "\n",
    "# DSC 478 Final Project\n",
    "\n",
    "### Netflix Movies and TV Shows\n",
    "\n",
    "#### YunTzu , Kun Shan\n"
   ]
  },
  {
   "cell_type": "markdown",
   "id": "77886e02",
   "metadata": {},
   "source": [
    "## Exploratory Data Analysis"
   ]
  },
  {
   "cell_type": "code",
   "execution_count": 1,
   "id": "99608c54",
   "metadata": {
    "ExecuteTime": {
     "end_time": "2023-11-17T19:21:28.089945Z",
     "start_time": "2023-11-17T19:21:26.586398Z"
    }
   },
   "outputs": [
    {
     "name": "stderr",
     "output_type": "stream",
     "text": [
      "/Users/yuntzuyu/opt/anaconda3/lib/python3.9/site-packages/scipy/__init__.py:146: UserWarning: A NumPy version >=1.16.5 and <1.23.0 is required for this version of SciPy (detected version 1.26.0\n",
      "  warnings.warn(f\"A NumPy version >={np_minversion} and <{np_maxversion}\"\n"
     ]
    }
   ],
   "source": [
    "#import important libraries\n",
    "import pandas as pd \n",
    "import numpy as np \n",
    "import seaborn as sns \n",
    "import matplotlib.pyplot as plt\n",
    "import time"
   ]
  },
  {
   "cell_type": "code",
   "execution_count": 2,
   "id": "55e3499d",
   "metadata": {
    "ExecuteTime": {
     "end_time": "2023-11-17T19:21:28.142925Z",
     "start_time": "2023-11-17T19:21:28.091328Z"
    }
   },
   "outputs": [],
   "source": [
    "#load data\n",
    "netflix_df = pd.read_csv(\"netflix_titles.csv\")"
   ]
  },
  {
   "cell_type": "code",
   "execution_count": 3,
   "id": "312e69c8",
   "metadata": {
    "ExecuteTime": {
     "end_time": "2023-11-17T19:21:28.156935Z",
     "start_time": "2023-11-17T19:21:28.144200Z"
    }
   },
   "outputs": [
    {
     "data": {
      "text/html": [
       "<div>\n",
       "<style scoped>\n",
       "    .dataframe tbody tr th:only-of-type {\n",
       "        vertical-align: middle;\n",
       "    }\n",
       "\n",
       "    .dataframe tbody tr th {\n",
       "        vertical-align: top;\n",
       "    }\n",
       "\n",
       "    .dataframe thead th {\n",
       "        text-align: right;\n",
       "    }\n",
       "</style>\n",
       "<table border=\"1\" class=\"dataframe\">\n",
       "  <thead>\n",
       "    <tr style=\"text-align: right;\">\n",
       "      <th></th>\n",
       "      <th>show_id</th>\n",
       "      <th>type</th>\n",
       "      <th>title</th>\n",
       "      <th>director</th>\n",
       "      <th>cast</th>\n",
       "      <th>country</th>\n",
       "      <th>date_added</th>\n",
       "      <th>release_year</th>\n",
       "      <th>rating</th>\n",
       "      <th>duration</th>\n",
       "      <th>listed_in</th>\n",
       "      <th>description</th>\n",
       "    </tr>\n",
       "  </thead>\n",
       "  <tbody>\n",
       "    <tr>\n",
       "      <th>0</th>\n",
       "      <td>s1</td>\n",
       "      <td>Movie</td>\n",
       "      <td>Dick Johnson Is Dead</td>\n",
       "      <td>Kirsten Johnson</td>\n",
       "      <td>NaN</td>\n",
       "      <td>United States</td>\n",
       "      <td>September 25, 2021</td>\n",
       "      <td>2020</td>\n",
       "      <td>PG-13</td>\n",
       "      <td>90 min</td>\n",
       "      <td>Documentaries</td>\n",
       "      <td>As her father nears the end of his life, filmm...</td>\n",
       "    </tr>\n",
       "    <tr>\n",
       "      <th>1</th>\n",
       "      <td>s2</td>\n",
       "      <td>TV Show</td>\n",
       "      <td>Blood &amp; Water</td>\n",
       "      <td>NaN</td>\n",
       "      <td>Ama Qamata, Khosi Ngema, Gail Mabalane, Thaban...</td>\n",
       "      <td>South Africa</td>\n",
       "      <td>September 24, 2021</td>\n",
       "      <td>2021</td>\n",
       "      <td>TV-MA</td>\n",
       "      <td>2 Seasons</td>\n",
       "      <td>International TV Shows, TV Dramas, TV Mysteries</td>\n",
       "      <td>After crossing paths at a party, a Cape Town t...</td>\n",
       "    </tr>\n",
       "    <tr>\n",
       "      <th>2</th>\n",
       "      <td>s3</td>\n",
       "      <td>TV Show</td>\n",
       "      <td>Ganglands</td>\n",
       "      <td>Julien Leclercq</td>\n",
       "      <td>Sami Bouajila, Tracy Gotoas, Samuel Jouy, Nabi...</td>\n",
       "      <td>NaN</td>\n",
       "      <td>September 24, 2021</td>\n",
       "      <td>2021</td>\n",
       "      <td>TV-MA</td>\n",
       "      <td>1 Season</td>\n",
       "      <td>Crime TV Shows, International TV Shows, TV Act...</td>\n",
       "      <td>To protect his family from a powerful drug lor...</td>\n",
       "    </tr>\n",
       "    <tr>\n",
       "      <th>3</th>\n",
       "      <td>s4</td>\n",
       "      <td>TV Show</td>\n",
       "      <td>Jailbirds New Orleans</td>\n",
       "      <td>NaN</td>\n",
       "      <td>NaN</td>\n",
       "      <td>NaN</td>\n",
       "      <td>September 24, 2021</td>\n",
       "      <td>2021</td>\n",
       "      <td>TV-MA</td>\n",
       "      <td>1 Season</td>\n",
       "      <td>Docuseries, Reality TV</td>\n",
       "      <td>Feuds, flirtations and toilet talk go down amo...</td>\n",
       "    </tr>\n",
       "    <tr>\n",
       "      <th>4</th>\n",
       "      <td>s5</td>\n",
       "      <td>TV Show</td>\n",
       "      <td>Kota Factory</td>\n",
       "      <td>NaN</td>\n",
       "      <td>Mayur More, Jitendra Kumar, Ranjan Raj, Alam K...</td>\n",
       "      <td>India</td>\n",
       "      <td>September 24, 2021</td>\n",
       "      <td>2021</td>\n",
       "      <td>TV-MA</td>\n",
       "      <td>2 Seasons</td>\n",
       "      <td>International TV Shows, Romantic TV Shows, TV ...</td>\n",
       "      <td>In a city of coaching centers known to train I...</td>\n",
       "    </tr>\n",
       "  </tbody>\n",
       "</table>\n",
       "</div>"
      ],
      "text/plain": [
       "  show_id     type                  title         director  \\\n",
       "0      s1    Movie   Dick Johnson Is Dead  Kirsten Johnson   \n",
       "1      s2  TV Show          Blood & Water              NaN   \n",
       "2      s3  TV Show              Ganglands  Julien Leclercq   \n",
       "3      s4  TV Show  Jailbirds New Orleans              NaN   \n",
       "4      s5  TV Show           Kota Factory              NaN   \n",
       "\n",
       "                                                cast        country  \\\n",
       "0                                                NaN  United States   \n",
       "1  Ama Qamata, Khosi Ngema, Gail Mabalane, Thaban...   South Africa   \n",
       "2  Sami Bouajila, Tracy Gotoas, Samuel Jouy, Nabi...            NaN   \n",
       "3                                                NaN            NaN   \n",
       "4  Mayur More, Jitendra Kumar, Ranjan Raj, Alam K...          India   \n",
       "\n",
       "           date_added  release_year rating   duration  \\\n",
       "0  September 25, 2021          2020  PG-13     90 min   \n",
       "1  September 24, 2021          2021  TV-MA  2 Seasons   \n",
       "2  September 24, 2021          2021  TV-MA   1 Season   \n",
       "3  September 24, 2021          2021  TV-MA   1 Season   \n",
       "4  September 24, 2021          2021  TV-MA  2 Seasons   \n",
       "\n",
       "                                           listed_in  \\\n",
       "0                                      Documentaries   \n",
       "1    International TV Shows, TV Dramas, TV Mysteries   \n",
       "2  Crime TV Shows, International TV Shows, TV Act...   \n",
       "3                             Docuseries, Reality TV   \n",
       "4  International TV Shows, Romantic TV Shows, TV ...   \n",
       "\n",
       "                                         description  \n",
       "0  As her father nears the end of his life, filmm...  \n",
       "1  After crossing paths at a party, a Cape Town t...  \n",
       "2  To protect his family from a powerful drug lor...  \n",
       "3  Feuds, flirtations and toilet talk go down amo...  \n",
       "4  In a city of coaching centers known to train I...  "
      ]
     },
     "execution_count": 3,
     "metadata": {},
     "output_type": "execute_result"
    }
   ],
   "source": [
    "#check data\n",
    "netflix_df.head()"
   ]
  },
  {
   "cell_type": "markdown",
   "id": "d49082fa",
   "metadata": {},
   "source": [
    "We observe null values in the features: director, cast, country, and date_added based on the data information.\n",
    "\n",
    "The only numerical variables is release_year , while the others are categoriacal variables."
   ]
  },
  {
   "cell_type": "code",
   "execution_count": 4,
   "id": "7d98cf46",
   "metadata": {
    "ExecuteTime": {
     "end_time": "2023-11-17T19:21:28.175098Z",
     "start_time": "2023-11-17T19:21:28.157926Z"
    }
   },
   "outputs": [
    {
     "name": "stdout",
     "output_type": "stream",
     "text": [
      "<class 'pandas.core.frame.DataFrame'>\n",
      "RangeIndex: 8807 entries, 0 to 8806\n",
      "Data columns (total 12 columns):\n",
      " #   Column        Non-Null Count  Dtype \n",
      "---  ------        --------------  ----- \n",
      " 0   show_id       8807 non-null   object\n",
      " 1   type          8807 non-null   object\n",
      " 2   title         8807 non-null   object\n",
      " 3   director      6173 non-null   object\n",
      " 4   cast          7982 non-null   object\n",
      " 5   country       7976 non-null   object\n",
      " 6   date_added    8797 non-null   object\n",
      " 7   release_year  8807 non-null   int64 \n",
      " 8   rating        8803 non-null   object\n",
      " 9   duration      8804 non-null   object\n",
      " 10  listed_in     8807 non-null   object\n",
      " 11  description   8807 non-null   object\n",
      "dtypes: int64(1), object(11)\n",
      "memory usage: 825.8+ KB\n"
     ]
    }
   ],
   "source": [
    "#check data\n",
    "netflix_df.info()"
   ]
  },
  {
   "cell_type": "code",
   "execution_count": 5,
   "id": "de25c994",
   "metadata": {
    "ExecuteTime": {
     "end_time": "2023-11-17T19:21:28.257018Z",
     "start_time": "2023-11-17T19:21:28.177087Z"
    }
   },
   "outputs": [
    {
     "data": {
      "text/html": [
       "<div>\n",
       "<style scoped>\n",
       "    .dataframe tbody tr th:only-of-type {\n",
       "        vertical-align: middle;\n",
       "    }\n",
       "\n",
       "    .dataframe tbody tr th {\n",
       "        vertical-align: top;\n",
       "    }\n",
       "\n",
       "    .dataframe thead th {\n",
       "        text-align: right;\n",
       "    }\n",
       "</style>\n",
       "<table border=\"1\" class=\"dataframe\">\n",
       "  <thead>\n",
       "    <tr style=\"text-align: right;\">\n",
       "      <th></th>\n",
       "      <th>show_id</th>\n",
       "      <th>type</th>\n",
       "      <th>title</th>\n",
       "      <th>director</th>\n",
       "      <th>cast</th>\n",
       "      <th>country</th>\n",
       "      <th>date_added</th>\n",
       "      <th>release_year</th>\n",
       "      <th>rating</th>\n",
       "      <th>duration</th>\n",
       "      <th>listed_in</th>\n",
       "      <th>description</th>\n",
       "    </tr>\n",
       "  </thead>\n",
       "  <tbody>\n",
       "    <tr>\n",
       "      <th>count</th>\n",
       "      <td>8807</td>\n",
       "      <td>8807</td>\n",
       "      <td>8807</td>\n",
       "      <td>6173</td>\n",
       "      <td>7982</td>\n",
       "      <td>7976</td>\n",
       "      <td>8797</td>\n",
       "      <td>8807.000000</td>\n",
       "      <td>8803</td>\n",
       "      <td>8804</td>\n",
       "      <td>8807</td>\n",
       "      <td>8807</td>\n",
       "    </tr>\n",
       "    <tr>\n",
       "      <th>unique</th>\n",
       "      <td>8807</td>\n",
       "      <td>2</td>\n",
       "      <td>8807</td>\n",
       "      <td>4528</td>\n",
       "      <td>7692</td>\n",
       "      <td>748</td>\n",
       "      <td>1767</td>\n",
       "      <td>NaN</td>\n",
       "      <td>17</td>\n",
       "      <td>220</td>\n",
       "      <td>514</td>\n",
       "      <td>8775</td>\n",
       "    </tr>\n",
       "    <tr>\n",
       "      <th>top</th>\n",
       "      <td>s1</td>\n",
       "      <td>Movie</td>\n",
       "      <td>Dick Johnson Is Dead</td>\n",
       "      <td>Rajiv Chilaka</td>\n",
       "      <td>David Attenborough</td>\n",
       "      <td>United States</td>\n",
       "      <td>January 1, 2020</td>\n",
       "      <td>NaN</td>\n",
       "      <td>TV-MA</td>\n",
       "      <td>1 Season</td>\n",
       "      <td>Dramas, International Movies</td>\n",
       "      <td>Paranormal activity at a lush, abandoned prope...</td>\n",
       "    </tr>\n",
       "    <tr>\n",
       "      <th>freq</th>\n",
       "      <td>1</td>\n",
       "      <td>6131</td>\n",
       "      <td>1</td>\n",
       "      <td>19</td>\n",
       "      <td>19</td>\n",
       "      <td>2818</td>\n",
       "      <td>109</td>\n",
       "      <td>NaN</td>\n",
       "      <td>3207</td>\n",
       "      <td>1793</td>\n",
       "      <td>362</td>\n",
       "      <td>4</td>\n",
       "    </tr>\n",
       "    <tr>\n",
       "      <th>mean</th>\n",
       "      <td>NaN</td>\n",
       "      <td>NaN</td>\n",
       "      <td>NaN</td>\n",
       "      <td>NaN</td>\n",
       "      <td>NaN</td>\n",
       "      <td>NaN</td>\n",
       "      <td>NaN</td>\n",
       "      <td>2014.180198</td>\n",
       "      <td>NaN</td>\n",
       "      <td>NaN</td>\n",
       "      <td>NaN</td>\n",
       "      <td>NaN</td>\n",
       "    </tr>\n",
       "    <tr>\n",
       "      <th>std</th>\n",
       "      <td>NaN</td>\n",
       "      <td>NaN</td>\n",
       "      <td>NaN</td>\n",
       "      <td>NaN</td>\n",
       "      <td>NaN</td>\n",
       "      <td>NaN</td>\n",
       "      <td>NaN</td>\n",
       "      <td>8.819312</td>\n",
       "      <td>NaN</td>\n",
       "      <td>NaN</td>\n",
       "      <td>NaN</td>\n",
       "      <td>NaN</td>\n",
       "    </tr>\n",
       "    <tr>\n",
       "      <th>min</th>\n",
       "      <td>NaN</td>\n",
       "      <td>NaN</td>\n",
       "      <td>NaN</td>\n",
       "      <td>NaN</td>\n",
       "      <td>NaN</td>\n",
       "      <td>NaN</td>\n",
       "      <td>NaN</td>\n",
       "      <td>1925.000000</td>\n",
       "      <td>NaN</td>\n",
       "      <td>NaN</td>\n",
       "      <td>NaN</td>\n",
       "      <td>NaN</td>\n",
       "    </tr>\n",
       "    <tr>\n",
       "      <th>25%</th>\n",
       "      <td>NaN</td>\n",
       "      <td>NaN</td>\n",
       "      <td>NaN</td>\n",
       "      <td>NaN</td>\n",
       "      <td>NaN</td>\n",
       "      <td>NaN</td>\n",
       "      <td>NaN</td>\n",
       "      <td>2013.000000</td>\n",
       "      <td>NaN</td>\n",
       "      <td>NaN</td>\n",
       "      <td>NaN</td>\n",
       "      <td>NaN</td>\n",
       "    </tr>\n",
       "    <tr>\n",
       "      <th>50%</th>\n",
       "      <td>NaN</td>\n",
       "      <td>NaN</td>\n",
       "      <td>NaN</td>\n",
       "      <td>NaN</td>\n",
       "      <td>NaN</td>\n",
       "      <td>NaN</td>\n",
       "      <td>NaN</td>\n",
       "      <td>2017.000000</td>\n",
       "      <td>NaN</td>\n",
       "      <td>NaN</td>\n",
       "      <td>NaN</td>\n",
       "      <td>NaN</td>\n",
       "    </tr>\n",
       "    <tr>\n",
       "      <th>75%</th>\n",
       "      <td>NaN</td>\n",
       "      <td>NaN</td>\n",
       "      <td>NaN</td>\n",
       "      <td>NaN</td>\n",
       "      <td>NaN</td>\n",
       "      <td>NaN</td>\n",
       "      <td>NaN</td>\n",
       "      <td>2019.000000</td>\n",
       "      <td>NaN</td>\n",
       "      <td>NaN</td>\n",
       "      <td>NaN</td>\n",
       "      <td>NaN</td>\n",
       "    </tr>\n",
       "    <tr>\n",
       "      <th>max</th>\n",
       "      <td>NaN</td>\n",
       "      <td>NaN</td>\n",
       "      <td>NaN</td>\n",
       "      <td>NaN</td>\n",
       "      <td>NaN</td>\n",
       "      <td>NaN</td>\n",
       "      <td>NaN</td>\n",
       "      <td>2021.000000</td>\n",
       "      <td>NaN</td>\n",
       "      <td>NaN</td>\n",
       "      <td>NaN</td>\n",
       "      <td>NaN</td>\n",
       "    </tr>\n",
       "  </tbody>\n",
       "</table>\n",
       "</div>"
      ],
      "text/plain": [
       "       show_id   type                 title       director  \\\n",
       "count     8807   8807                  8807           6173   \n",
       "unique    8807      2                  8807           4528   \n",
       "top         s1  Movie  Dick Johnson Is Dead  Rajiv Chilaka   \n",
       "freq         1   6131                     1             19   \n",
       "mean       NaN    NaN                   NaN            NaN   \n",
       "std        NaN    NaN                   NaN            NaN   \n",
       "min        NaN    NaN                   NaN            NaN   \n",
       "25%        NaN    NaN                   NaN            NaN   \n",
       "50%        NaN    NaN                   NaN            NaN   \n",
       "75%        NaN    NaN                   NaN            NaN   \n",
       "max        NaN    NaN                   NaN            NaN   \n",
       "\n",
       "                      cast        country       date_added  release_year  \\\n",
       "count                 7982           7976             8797   8807.000000   \n",
       "unique                7692            748             1767           NaN   \n",
       "top     David Attenborough  United States  January 1, 2020           NaN   \n",
       "freq                    19           2818              109           NaN   \n",
       "mean                   NaN            NaN              NaN   2014.180198   \n",
       "std                    NaN            NaN              NaN      8.819312   \n",
       "min                    NaN            NaN              NaN   1925.000000   \n",
       "25%                    NaN            NaN              NaN   2013.000000   \n",
       "50%                    NaN            NaN              NaN   2017.000000   \n",
       "75%                    NaN            NaN              NaN   2019.000000   \n",
       "max                    NaN            NaN              NaN   2021.000000   \n",
       "\n",
       "       rating  duration                     listed_in  \\\n",
       "count    8803      8804                          8807   \n",
       "unique     17       220                           514   \n",
       "top     TV-MA  1 Season  Dramas, International Movies   \n",
       "freq     3207      1793                           362   \n",
       "mean      NaN       NaN                           NaN   \n",
       "std       NaN       NaN                           NaN   \n",
       "min       NaN       NaN                           NaN   \n",
       "25%       NaN       NaN                           NaN   \n",
       "50%       NaN       NaN                           NaN   \n",
       "75%       NaN       NaN                           NaN   \n",
       "max       NaN       NaN                           NaN   \n",
       "\n",
       "                                              description  \n",
       "count                                                8807  \n",
       "unique                                               8775  \n",
       "top     Paranormal activity at a lush, abandoned prope...  \n",
       "freq                                                    4  \n",
       "mean                                                  NaN  \n",
       "std                                                   NaN  \n",
       "min                                                   NaN  \n",
       "25%                                                   NaN  \n",
       "50%                                                   NaN  \n",
       "75%                                                   NaN  \n",
       "max                                                   NaN  "
      ]
     },
     "execution_count": 5,
     "metadata": {},
     "output_type": "execute_result"
    }
   ],
   "source": [
    "#summarize statistic data information\n",
    "netflix_df.describe(include = \"all\")"
   ]
  },
  {
   "cell_type": "markdown",
   "id": "00f7d17f",
   "metadata": {},
   "source": [
    "## Summary:\n",
    "\n",
    "\n",
    "\n",
    "1. Missing Values: Columns like director, cast, country, date_added, rating, and duration have missing values.\n",
    "\n",
    "2. Data Types: Most columns are object/string types, except for release_year, which is an integer.\n",
    "\n",
    "\n",
    "3. release_year ranges from 1925 to 2021, with an average release year of approximately 2014.18.\n",
    "\n",
    "4. The most frequent content types are Movies (6131 occurrences) and TV-MA ratings (3207 occurrences).\n",
    "\n",
    "5. The top directors, cast members, countries, and genres/categories with the most occurrences are mentioned.\n",
    "\n",
    "\n",
    "6. The dataset predominantly consists of Movies, but also includes TV Shows.\n",
    "\n",
    "7. The content comes from various countries, with the majority from the United States.\n",
    "\n",
    "8. There's a range of release years, suggesting a diverse collection of old and recent content.\n",
    "\n",
    "9. Most content has missing director and cast information."
   ]
  },
  {
   "cell_type": "code",
   "execution_count": 6,
   "id": "a676ac79",
   "metadata": {
    "ExecuteTime": {
     "end_time": "2023-11-17T19:21:28.308989Z",
     "start_time": "2023-11-17T19:21:28.261111Z"
    }
   },
   "outputs": [
    {
     "name": "stdout",
     "output_type": "stream",
     "text": [
      "<class 'pandas.core.frame.DataFrame'>\n",
      "RangeIndex: 8807 entries, 0 to 8806\n",
      "Data columns (total 12 columns):\n",
      " #   Column        Non-Null Count  Dtype \n",
      "---  ------        --------------  ----- \n",
      " 0   show_id       8807 non-null   object\n",
      " 1   type          8807 non-null   object\n",
      " 2   title         8807 non-null   object\n",
      " 3   director      6173 non-null   object\n",
      " 4   cast          7982 non-null   object\n",
      " 5   country       7976 non-null   object\n",
      " 6   date_added    8797 non-null   object\n",
      " 7   release_year  8807 non-null   int64 \n",
      " 8   rating        8803 non-null   object\n",
      " 9   duration      8804 non-null   object\n",
      " 10  listed_in     8807 non-null   object\n",
      " 11  description   8807 non-null   object\n",
      "dtypes: int64(1), object(11)\n",
      "memory usage: 825.8+ KB\n"
     ]
    }
   ],
   "source": [
    "#need to change the features : title ,director ,cast ,country,listed_in and \n",
    "#description from data tpye of string to a data type of list.\n",
    "df = netflix_df.copy()\n",
    "df.country=df.country.str.split(\",\").tolist()\n",
    "df.cast=df.cast.str.split(\",\").tolist()\t\n",
    "df.director=df.director.str.split(',').tolist() \n",
    "df.listed_in = df.listed_in.str.split(',').tolist()\n",
    "df.info()"
   ]
  },
  {
   "cell_type": "code",
   "execution_count": 7,
   "id": "6ef023b8",
   "metadata": {
    "ExecuteTime": {
     "end_time": "2023-11-17T19:21:29.972022Z",
     "start_time": "2023-11-17T19:21:28.310694Z"
    }
   },
   "outputs": [
    {
     "data": {
      "text/html": [
       "<div>\n",
       "<style scoped>\n",
       "    .dataframe tbody tr th:only-of-type {\n",
       "        vertical-align: middle;\n",
       "    }\n",
       "\n",
       "    .dataframe tbody tr th {\n",
       "        vertical-align: top;\n",
       "    }\n",
       "\n",
       "    .dataframe thead th {\n",
       "        text-align: right;\n",
       "    }\n",
       "</style>\n",
       "<table border=\"1\" class=\"dataframe\">\n",
       "  <thead>\n",
       "    <tr style=\"text-align: right;\">\n",
       "      <th></th>\n",
       "      <th>show_id</th>\n",
       "      <th>type</th>\n",
       "      <th>title</th>\n",
       "      <th>director</th>\n",
       "      <th>cast</th>\n",
       "      <th>country</th>\n",
       "      <th>date_added</th>\n",
       "      <th>rating</th>\n",
       "      <th>duration</th>\n",
       "      <th>listed_in</th>\n",
       "      <th>description</th>\n",
       "    </tr>\n",
       "  </thead>\n",
       "  <tbody>\n",
       "    <tr>\n",
       "      <th>count</th>\n",
       "      <td>8807</td>\n",
       "      <td>8807</td>\n",
       "      <td>8807</td>\n",
       "      <td>6173</td>\n",
       "      <td>7982</td>\n",
       "      <td>7976</td>\n",
       "      <td>8797</td>\n",
       "      <td>8803</td>\n",
       "      <td>8804</td>\n",
       "      <td>8807</td>\n",
       "      <td>8807</td>\n",
       "    </tr>\n",
       "    <tr>\n",
       "      <th>unique</th>\n",
       "      <td>8807</td>\n",
       "      <td>2</td>\n",
       "      <td>8807</td>\n",
       "      <td>4528</td>\n",
       "      <td>7692</td>\n",
       "      <td>748</td>\n",
       "      <td>1767</td>\n",
       "      <td>17</td>\n",
       "      <td>220</td>\n",
       "      <td>514</td>\n",
       "      <td>8775</td>\n",
       "    </tr>\n",
       "    <tr>\n",
       "      <th>top</th>\n",
       "      <td>s1</td>\n",
       "      <td>Movie</td>\n",
       "      <td>Dick Johnson Is Dead</td>\n",
       "      <td>[Rajiv Chilaka]</td>\n",
       "      <td>[David Attenborough]</td>\n",
       "      <td>[United States]</td>\n",
       "      <td>January 1, 2020</td>\n",
       "      <td>TV-MA</td>\n",
       "      <td>1 Season</td>\n",
       "      <td>[Dramas,  International Movies]</td>\n",
       "      <td>Paranormal activity at a lush, abandoned prope...</td>\n",
       "    </tr>\n",
       "    <tr>\n",
       "      <th>freq</th>\n",
       "      <td>1</td>\n",
       "      <td>6131</td>\n",
       "      <td>1</td>\n",
       "      <td>19</td>\n",
       "      <td>19</td>\n",
       "      <td>2818</td>\n",
       "      <td>109</td>\n",
       "      <td>3207</td>\n",
       "      <td>1793</td>\n",
       "      <td>362</td>\n",
       "      <td>4</td>\n",
       "    </tr>\n",
       "  </tbody>\n",
       "</table>\n",
       "</div>"
      ],
      "text/plain": [
       "       show_id   type                 title         director  \\\n",
       "count     8807   8807                  8807             6173   \n",
       "unique    8807      2                  8807             4528   \n",
       "top         s1  Movie  Dick Johnson Is Dead  [Rajiv Chilaka]   \n",
       "freq         1   6131                     1               19   \n",
       "\n",
       "                        cast          country       date_added rating  \\\n",
       "count                   7982             7976             8797   8803   \n",
       "unique                  7692              748             1767     17   \n",
       "top     [David Attenborough]  [United States]  January 1, 2020  TV-MA   \n",
       "freq                      19             2818              109   3207   \n",
       "\n",
       "        duration                        listed_in  \\\n",
       "count       8804                             8807   \n",
       "unique       220                              514   \n",
       "top     1 Season  [Dramas,  International Movies]   \n",
       "freq        1793                              362   \n",
       "\n",
       "                                              description  \n",
       "count                                                8807  \n",
       "unique                                               8775  \n",
       "top     Paranormal activity at a lush, abandoned prope...  \n",
       "freq                                                    4  "
      ]
     },
     "execution_count": 7,
     "metadata": {},
     "output_type": "execute_result"
    }
   ],
   "source": [
    "df.describe(include = 'object')"
   ]
  },
  {
   "cell_type": "code",
   "execution_count": 8,
   "id": "3433fbb7",
   "metadata": {
    "ExecuteTime": {
     "end_time": "2023-11-17T19:21:29.996663Z",
     "start_time": "2023-11-17T19:21:29.974560Z"
    }
   },
   "outputs": [
    {
     "data": {
      "text/html": [
       "<div>\n",
       "<style scoped>\n",
       "    .dataframe tbody tr th:only-of-type {\n",
       "        vertical-align: middle;\n",
       "    }\n",
       "\n",
       "    .dataframe tbody tr th {\n",
       "        vertical-align: top;\n",
       "    }\n",
       "\n",
       "    .dataframe thead th {\n",
       "        text-align: right;\n",
       "    }\n",
       "</style>\n",
       "<table border=\"1\" class=\"dataframe\">\n",
       "  <thead>\n",
       "    <tr style=\"text-align: right;\">\n",
       "      <th></th>\n",
       "      <th>show_id</th>\n",
       "      <th>type</th>\n",
       "      <th>title</th>\n",
       "      <th>director</th>\n",
       "      <th>cast</th>\n",
       "      <th>country</th>\n",
       "      <th>date_added</th>\n",
       "      <th>release_year</th>\n",
       "      <th>rating</th>\n",
       "      <th>duration</th>\n",
       "      <th>listed_in</th>\n",
       "      <th>description</th>\n",
       "    </tr>\n",
       "  </thead>\n",
       "  <tbody>\n",
       "    <tr>\n",
       "      <th>0</th>\n",
       "      <td>s1</td>\n",
       "      <td>Movie</td>\n",
       "      <td>Dick Johnson Is Dead</td>\n",
       "      <td>[Kirsten Johnson]</td>\n",
       "      <td>NaN</td>\n",
       "      <td>[United States]</td>\n",
       "      <td>September 25, 2021</td>\n",
       "      <td>2020</td>\n",
       "      <td>PG-13</td>\n",
       "      <td>90 min</td>\n",
       "      <td>[Documentaries]</td>\n",
       "      <td>As her father nears the end of his life, filmm...</td>\n",
       "    </tr>\n",
       "    <tr>\n",
       "      <th>1</th>\n",
       "      <td>s2</td>\n",
       "      <td>TV Show</td>\n",
       "      <td>Blood &amp; Water</td>\n",
       "      <td>NaN</td>\n",
       "      <td>[Ama Qamata,  Khosi Ngema,  Gail Mabalane,  Th...</td>\n",
       "      <td>[South Africa]</td>\n",
       "      <td>September 24, 2021</td>\n",
       "      <td>2021</td>\n",
       "      <td>TV-MA</td>\n",
       "      <td>2 Seasons</td>\n",
       "      <td>[International TV Shows,  TV Dramas,  TV Myste...</td>\n",
       "      <td>After crossing paths at a party, a Cape Town t...</td>\n",
       "    </tr>\n",
       "    <tr>\n",
       "      <th>2</th>\n",
       "      <td>s3</td>\n",
       "      <td>TV Show</td>\n",
       "      <td>Ganglands</td>\n",
       "      <td>[Julien Leclercq]</td>\n",
       "      <td>[Sami Bouajila,  Tracy Gotoas,  Samuel Jouy,  ...</td>\n",
       "      <td>NaN</td>\n",
       "      <td>September 24, 2021</td>\n",
       "      <td>2021</td>\n",
       "      <td>TV-MA</td>\n",
       "      <td>1 Season</td>\n",
       "      <td>[Crime TV Shows,  International TV Shows,  TV ...</td>\n",
       "      <td>To protect his family from a powerful drug lor...</td>\n",
       "    </tr>\n",
       "    <tr>\n",
       "      <th>3</th>\n",
       "      <td>s4</td>\n",
       "      <td>TV Show</td>\n",
       "      <td>Jailbirds New Orleans</td>\n",
       "      <td>NaN</td>\n",
       "      <td>NaN</td>\n",
       "      <td>NaN</td>\n",
       "      <td>September 24, 2021</td>\n",
       "      <td>2021</td>\n",
       "      <td>TV-MA</td>\n",
       "      <td>1 Season</td>\n",
       "      <td>[Docuseries,  Reality TV]</td>\n",
       "      <td>Feuds, flirtations and toilet talk go down amo...</td>\n",
       "    </tr>\n",
       "    <tr>\n",
       "      <th>4</th>\n",
       "      <td>s5</td>\n",
       "      <td>TV Show</td>\n",
       "      <td>Kota Factory</td>\n",
       "      <td>NaN</td>\n",
       "      <td>[Mayur More,  Jitendra Kumar,  Ranjan Raj,  Al...</td>\n",
       "      <td>[India]</td>\n",
       "      <td>September 24, 2021</td>\n",
       "      <td>2021</td>\n",
       "      <td>TV-MA</td>\n",
       "      <td>2 Seasons</td>\n",
       "      <td>[International TV Shows,  Romantic TV Shows,  ...</td>\n",
       "      <td>In a city of coaching centers known to train I...</td>\n",
       "    </tr>\n",
       "    <tr>\n",
       "      <th>...</th>\n",
       "      <td>...</td>\n",
       "      <td>...</td>\n",
       "      <td>...</td>\n",
       "      <td>...</td>\n",
       "      <td>...</td>\n",
       "      <td>...</td>\n",
       "      <td>...</td>\n",
       "      <td>...</td>\n",
       "      <td>...</td>\n",
       "      <td>...</td>\n",
       "      <td>...</td>\n",
       "      <td>...</td>\n",
       "    </tr>\n",
       "    <tr>\n",
       "      <th>8802</th>\n",
       "      <td>s8803</td>\n",
       "      <td>Movie</td>\n",
       "      <td>Zodiac</td>\n",
       "      <td>[David Fincher]</td>\n",
       "      <td>[Mark Ruffalo,  Jake Gyllenhaal,  Robert Downe...</td>\n",
       "      <td>[United States]</td>\n",
       "      <td>November 20, 2019</td>\n",
       "      <td>2007</td>\n",
       "      <td>R</td>\n",
       "      <td>158 min</td>\n",
       "      <td>[Cult Movies,  Dramas,  Thrillers]</td>\n",
       "      <td>A political cartoonist, a crime reporter and a...</td>\n",
       "    </tr>\n",
       "    <tr>\n",
       "      <th>8803</th>\n",
       "      <td>s8804</td>\n",
       "      <td>TV Show</td>\n",
       "      <td>Zombie Dumb</td>\n",
       "      <td>NaN</td>\n",
       "      <td>NaN</td>\n",
       "      <td>NaN</td>\n",
       "      <td>July 1, 2019</td>\n",
       "      <td>2018</td>\n",
       "      <td>TV-Y7</td>\n",
       "      <td>2 Seasons</td>\n",
       "      <td>[Kids' TV,  Korean TV Shows,  TV Comedies]</td>\n",
       "      <td>While living alone in a spooky town, a young g...</td>\n",
       "    </tr>\n",
       "    <tr>\n",
       "      <th>8804</th>\n",
       "      <td>s8805</td>\n",
       "      <td>Movie</td>\n",
       "      <td>Zombieland</td>\n",
       "      <td>[Ruben Fleischer]</td>\n",
       "      <td>[Jesse Eisenberg,  Woody Harrelson,  Emma Ston...</td>\n",
       "      <td>[United States]</td>\n",
       "      <td>November 1, 2019</td>\n",
       "      <td>2009</td>\n",
       "      <td>R</td>\n",
       "      <td>88 min</td>\n",
       "      <td>[Comedies,  Horror Movies]</td>\n",
       "      <td>Looking to survive in a world taken over by zo...</td>\n",
       "    </tr>\n",
       "    <tr>\n",
       "      <th>8805</th>\n",
       "      <td>s8806</td>\n",
       "      <td>Movie</td>\n",
       "      <td>Zoom</td>\n",
       "      <td>[Peter Hewitt]</td>\n",
       "      <td>[Tim Allen,  Courteney Cox,  Chevy Chase,  Kat...</td>\n",
       "      <td>[United States]</td>\n",
       "      <td>January 11, 2020</td>\n",
       "      <td>2006</td>\n",
       "      <td>PG</td>\n",
       "      <td>88 min</td>\n",
       "      <td>[Children &amp; Family Movies,  Comedies]</td>\n",
       "      <td>Dragged from civilian life, a former superhero...</td>\n",
       "    </tr>\n",
       "    <tr>\n",
       "      <th>8806</th>\n",
       "      <td>s8807</td>\n",
       "      <td>Movie</td>\n",
       "      <td>Zubaan</td>\n",
       "      <td>[Mozez Singh]</td>\n",
       "      <td>[Vicky Kaushal,  Sarah-Jane Dias,  Raaghav Cha...</td>\n",
       "      <td>[India]</td>\n",
       "      <td>March 2, 2019</td>\n",
       "      <td>2015</td>\n",
       "      <td>TV-14</td>\n",
       "      <td>111 min</td>\n",
       "      <td>[Dramas,  International Movies,  Music &amp; Music...</td>\n",
       "      <td>A scrappy but poor boy worms his way into a ty...</td>\n",
       "    </tr>\n",
       "  </tbody>\n",
       "</table>\n",
       "<p>8807 rows × 12 columns</p>\n",
       "</div>"
      ],
      "text/plain": [
       "     show_id     type                  title           director  \\\n",
       "0         s1    Movie   Dick Johnson Is Dead  [Kirsten Johnson]   \n",
       "1         s2  TV Show          Blood & Water                NaN   \n",
       "2         s3  TV Show              Ganglands  [Julien Leclercq]   \n",
       "3         s4  TV Show  Jailbirds New Orleans                NaN   \n",
       "4         s5  TV Show           Kota Factory                NaN   \n",
       "...      ...      ...                    ...                ...   \n",
       "8802   s8803    Movie                 Zodiac    [David Fincher]   \n",
       "8803   s8804  TV Show            Zombie Dumb                NaN   \n",
       "8804   s8805    Movie             Zombieland  [Ruben Fleischer]   \n",
       "8805   s8806    Movie                   Zoom     [Peter Hewitt]   \n",
       "8806   s8807    Movie                 Zubaan      [Mozez Singh]   \n",
       "\n",
       "                                                   cast          country  \\\n",
       "0                                                   NaN  [United States]   \n",
       "1     [Ama Qamata,  Khosi Ngema,  Gail Mabalane,  Th...   [South Africa]   \n",
       "2     [Sami Bouajila,  Tracy Gotoas,  Samuel Jouy,  ...              NaN   \n",
       "3                                                   NaN              NaN   \n",
       "4     [Mayur More,  Jitendra Kumar,  Ranjan Raj,  Al...          [India]   \n",
       "...                                                 ...              ...   \n",
       "8802  [Mark Ruffalo,  Jake Gyllenhaal,  Robert Downe...  [United States]   \n",
       "8803                                                NaN              NaN   \n",
       "8804  [Jesse Eisenberg,  Woody Harrelson,  Emma Ston...  [United States]   \n",
       "8805  [Tim Allen,  Courteney Cox,  Chevy Chase,  Kat...  [United States]   \n",
       "8806  [Vicky Kaushal,  Sarah-Jane Dias,  Raaghav Cha...          [India]   \n",
       "\n",
       "              date_added  release_year rating   duration  \\\n",
       "0     September 25, 2021          2020  PG-13     90 min   \n",
       "1     September 24, 2021          2021  TV-MA  2 Seasons   \n",
       "2     September 24, 2021          2021  TV-MA   1 Season   \n",
       "3     September 24, 2021          2021  TV-MA   1 Season   \n",
       "4     September 24, 2021          2021  TV-MA  2 Seasons   \n",
       "...                  ...           ...    ...        ...   \n",
       "8802   November 20, 2019          2007      R    158 min   \n",
       "8803        July 1, 2019          2018  TV-Y7  2 Seasons   \n",
       "8804    November 1, 2019          2009      R     88 min   \n",
       "8805    January 11, 2020          2006     PG     88 min   \n",
       "8806       March 2, 2019          2015  TV-14    111 min   \n",
       "\n",
       "                                              listed_in  \\\n",
       "0                                       [Documentaries]   \n",
       "1     [International TV Shows,  TV Dramas,  TV Myste...   \n",
       "2     [Crime TV Shows,  International TV Shows,  TV ...   \n",
       "3                             [Docuseries,  Reality TV]   \n",
       "4     [International TV Shows,  Romantic TV Shows,  ...   \n",
       "...                                                 ...   \n",
       "8802                 [Cult Movies,  Dramas,  Thrillers]   \n",
       "8803         [Kids' TV,  Korean TV Shows,  TV Comedies]   \n",
       "8804                         [Comedies,  Horror Movies]   \n",
       "8805              [Children & Family Movies,  Comedies]   \n",
       "8806  [Dramas,  International Movies,  Music & Music...   \n",
       "\n",
       "                                            description  \n",
       "0     As her father nears the end of his life, filmm...  \n",
       "1     After crossing paths at a party, a Cape Town t...  \n",
       "2     To protect his family from a powerful drug lor...  \n",
       "3     Feuds, flirtations and toilet talk go down amo...  \n",
       "4     In a city of coaching centers known to train I...  \n",
       "...                                                 ...  \n",
       "8802  A political cartoonist, a crime reporter and a...  \n",
       "8803  While living alone in a spooky town, a young g...  \n",
       "8804  Looking to survive in a world taken over by zo...  \n",
       "8805  Dragged from civilian life, a former superhero...  \n",
       "8806  A scrappy but poor boy worms his way into a ty...  \n",
       "\n",
       "[8807 rows x 12 columns]"
      ]
     },
     "execution_count": 8,
     "metadata": {},
     "output_type": "execute_result"
    }
   ],
   "source": [
    "df1 = df.copy()\n",
    "df1"
   ]
  },
  {
   "cell_type": "code",
   "execution_count": 9,
   "id": "f26d005b",
   "metadata": {
    "ExecuteTime": {
     "end_time": "2023-11-17T19:21:30.018557Z",
     "start_time": "2023-11-17T19:21:29.998588Z"
    }
   },
   "outputs": [],
   "source": [
    "#only keep the characters in the columns : title,director,country,listed_in\t,description\n",
    "df1[\"cast\"] =df1[\"cast\"].str[0] \n",
    "df1[\"director\"] =df1[\"director\"].str[0] \n",
    "df1[\"country\"] =df1[\"country\"].str[0]\n",
    "df1[\"listed_in\"] =df1[\"listed_in\"].str[0]"
   ]
  },
  {
   "cell_type": "code",
   "execution_count": 10,
   "id": "675868b6",
   "metadata": {
    "ExecuteTime": {
     "end_time": "2023-11-17T19:21:30.026705Z",
     "start_time": "2023-11-17T19:21:30.019875Z"
    }
   },
   "outputs": [
    {
     "data": {
      "text/plain": [
       "0       United States\n",
       "1        South Africa\n",
       "2       United States\n",
       "3       United States\n",
       "4               India\n",
       "            ...      \n",
       "8802    United States\n",
       "8803    United States\n",
       "8804    United States\n",
       "8805    United States\n",
       "8806            India\n",
       "Name: country, Length: 8807, dtype: object"
      ]
     },
     "execution_count": 10,
     "metadata": {},
     "output_type": "execute_result"
    }
   ],
   "source": [
    "# Replace missing values in the 'country' variable with the mode value\n",
    "df2 = df1.copy()\n",
    "df2 [\"country\"] = df2 [\"country\"].fillna(df2 ['country'].mode()[0])\n",
    "df2 [\"country\"]"
   ]
  },
  {
   "cell_type": "code",
   "execution_count": 11,
   "id": "cef6c620",
   "metadata": {
    "ExecuteTime": {
     "end_time": "2023-11-17T19:21:30.035323Z",
     "start_time": "2023-11-17T19:21:30.028524Z"
    }
   },
   "outputs": [
    {
     "name": "stdout",
     "output_type": "stream",
     "text": [
      "['PG-13', 'TV-MA', 'PG', 'TV-14', 'TV-PG', 'TV-Y', 'TV-Y7', 'R', 'TV-G', 'G', 'NC-17', '74 min', '84 min', '66 min', 'NR', nan, 'TV-Y7-FV', 'UR']\n"
     ]
    }
   ],
   "source": [
    "#check rating variables\n",
    "print(df2.rating.unique().tolist())"
   ]
  },
  {
   "cell_type": "markdown",
   "id": "6bad87ef",
   "metadata": {},
   "source": [
    "#### There appear to be anomalous values in the 'rating' variable such as '74 min', '84 min', '66 min', and NaN. These should not be considered as a single TV rating type."
   ]
  },
  {
   "cell_type": "code",
   "execution_count": 12,
   "id": "6d662904",
   "metadata": {
    "ExecuteTime": {
     "end_time": "2023-11-17T19:21:30.047256Z",
     "start_time": "2023-11-17T19:21:30.039192Z"
    }
   },
   "outputs": [
    {
     "name": "stdout",
     "output_type": "stream",
     "text": [
      "['PG-13' 'TV-MA' 'PG' 'TV-14' 'TV-PG' 'TV-Y' 'TV-Y7' 'R' 'TV-G' 'G'\n",
      " 'NC-17' nan 'NR' 'UR']\n"
     ]
    }
   ],
   "source": [
    "df2 [\"rating\"]=df2 [\"rating\"].replace({'74 min':np.nan,'84 min':np.nan,'66 min':np.nan,'TV-Y7-FV':'TV-Y7'})\n",
    "print(df2 [\"rating\"].unique())"
   ]
  },
  {
   "cell_type": "code",
   "execution_count": 13,
   "id": "9cdc4bc5",
   "metadata": {
    "ExecuteTime": {
     "end_time": "2023-11-17T19:21:30.056210Z",
     "start_time": "2023-11-17T19:21:30.049641Z"
    }
   },
   "outputs": [
    {
     "name": "stdout",
     "output_type": "stream",
     "text": [
      "Null in director: 2634\n",
      "Null in cast: 825\n"
     ]
    }
   ],
   "source": [
    "#check the null value in director and cast variables.\n",
    "print(\"Null in director: %d\" % df2[\"director\"].isnull().sum())\n",
    "print(\"Null in cast: %d\" % df2[\"cast\"].isnull().sum())"
   ]
  },
  {
   "cell_type": "code",
   "execution_count": 14,
   "id": "df01e218",
   "metadata": {
    "ExecuteTime": {
     "end_time": "2023-11-17T19:21:30.063163Z",
     "start_time": "2023-11-17T19:21:30.058031Z"
    }
   },
   "outputs": [],
   "source": [
    "#create new category for null value in director and cast variables.\n",
    "df2 [\"director\"]=df2 [\"director\"].fillna('Unknown')\n",
    "df2 [\"cast\"]=df2[\"cast\"].fillna('Unknown')"
   ]
  },
  {
   "cell_type": "markdown",
   "id": "a000fda6",
   "metadata": {},
   "source": [
    "Replace missing values in the 'date_added ','rating','duration' variable with the mode value"
   ]
  },
  {
   "cell_type": "code",
   "execution_count": 15,
   "id": "b9bca770",
   "metadata": {
    "ExecuteTime": {
     "end_time": "2023-11-17T19:21:30.073281Z",
     "start_time": "2023-11-17T19:21:30.064432Z"
    }
   },
   "outputs": [],
   "source": [
    "df2 ['date_added']=df2 ['date_added'].fillna(df2 ['date_added'].mode()[0])\n",
    "df2 ['rating']=df2 ['rating'].fillna(df2 ['rating'].mode()[0])\n",
    "df2 ['duration']=df2 ['duration'].fillna(df2 ['duration'].mode()[0])"
   ]
  },
  {
   "cell_type": "code",
   "execution_count": 16,
   "id": "020e39df",
   "metadata": {
    "ExecuteTime": {
     "end_time": "2023-11-17T19:21:30.087279Z",
     "start_time": "2023-11-17T19:21:30.074309Z"
    }
   },
   "outputs": [
    {
     "name": "stdout",
     "output_type": "stream",
     "text": [
      "<class 'pandas.core.frame.DataFrame'>\n",
      "RangeIndex: 8807 entries, 0 to 8806\n",
      "Data columns (total 12 columns):\n",
      " #   Column        Non-Null Count  Dtype \n",
      "---  ------        --------------  ----- \n",
      " 0   show_id       8807 non-null   object\n",
      " 1   type          8807 non-null   object\n",
      " 2   title         8807 non-null   object\n",
      " 3   director      8807 non-null   object\n",
      " 4   cast          8807 non-null   object\n",
      " 5   country       8807 non-null   object\n",
      " 6   date_added    8807 non-null   object\n",
      " 7   release_year  8807 non-null   int64 \n",
      " 8   rating        8807 non-null   object\n",
      " 9   duration      8807 non-null   object\n",
      " 10  listed_in     8807 non-null   object\n",
      " 11  description   8807 non-null   object\n",
      "dtypes: int64(1), object(11)\n",
      "memory usage: 825.8+ KB\n"
     ]
    }
   ],
   "source": [
    "df2.info()"
   ]
  },
  {
   "cell_type": "code",
   "execution_count": 17,
   "id": "f668e1c3",
   "metadata": {
    "ExecuteTime": {
     "end_time": "2023-11-17T19:21:30.099843Z",
     "start_time": "2023-11-17T19:21:30.089396Z"
    }
   },
   "outputs": [
    {
     "data": {
      "text/html": [
       "<div>\n",
       "<style scoped>\n",
       "    .dataframe tbody tr th:only-of-type {\n",
       "        vertical-align: middle;\n",
       "    }\n",
       "\n",
       "    .dataframe tbody tr th {\n",
       "        vertical-align: top;\n",
       "    }\n",
       "\n",
       "    .dataframe thead th {\n",
       "        text-align: right;\n",
       "    }\n",
       "</style>\n",
       "<table border=\"1\" class=\"dataframe\">\n",
       "  <thead>\n",
       "    <tr style=\"text-align: right;\">\n",
       "      <th></th>\n",
       "      <th>show_id</th>\n",
       "      <th>type</th>\n",
       "      <th>title</th>\n",
       "      <th>director</th>\n",
       "      <th>cast</th>\n",
       "      <th>country</th>\n",
       "      <th>date_added</th>\n",
       "      <th>release_year</th>\n",
       "      <th>rating</th>\n",
       "      <th>duration</th>\n",
       "      <th>listed_in</th>\n",
       "      <th>description</th>\n",
       "    </tr>\n",
       "  </thead>\n",
       "  <tbody>\n",
       "    <tr>\n",
       "      <th>0</th>\n",
       "      <td>s1</td>\n",
       "      <td>Movie</td>\n",
       "      <td>Dick Johnson Is Dead</td>\n",
       "      <td>Kirsten Johnson</td>\n",
       "      <td>Unknown</td>\n",
       "      <td>United States</td>\n",
       "      <td>September 25, 2021</td>\n",
       "      <td>2020</td>\n",
       "      <td>PG-13</td>\n",
       "      <td>90 min</td>\n",
       "      <td>Documentaries</td>\n",
       "      <td>As her father nears the end of his life, filmm...</td>\n",
       "    </tr>\n",
       "    <tr>\n",
       "      <th>1</th>\n",
       "      <td>s2</td>\n",
       "      <td>TV Show</td>\n",
       "      <td>Blood &amp; Water</td>\n",
       "      <td>Unknown</td>\n",
       "      <td>Ama Qamata</td>\n",
       "      <td>South Africa</td>\n",
       "      <td>September 24, 2021</td>\n",
       "      <td>2021</td>\n",
       "      <td>TV-MA</td>\n",
       "      <td>2 Seasons</td>\n",
       "      <td>International TV Shows</td>\n",
       "      <td>After crossing paths at a party, a Cape Town t...</td>\n",
       "    </tr>\n",
       "    <tr>\n",
       "      <th>2</th>\n",
       "      <td>s3</td>\n",
       "      <td>TV Show</td>\n",
       "      <td>Ganglands</td>\n",
       "      <td>Julien Leclercq</td>\n",
       "      <td>Sami Bouajila</td>\n",
       "      <td>United States</td>\n",
       "      <td>September 24, 2021</td>\n",
       "      <td>2021</td>\n",
       "      <td>TV-MA</td>\n",
       "      <td>1 Season</td>\n",
       "      <td>Crime TV Shows</td>\n",
       "      <td>To protect his family from a powerful drug lor...</td>\n",
       "    </tr>\n",
       "    <tr>\n",
       "      <th>3</th>\n",
       "      <td>s4</td>\n",
       "      <td>TV Show</td>\n",
       "      <td>Jailbirds New Orleans</td>\n",
       "      <td>Unknown</td>\n",
       "      <td>Unknown</td>\n",
       "      <td>United States</td>\n",
       "      <td>September 24, 2021</td>\n",
       "      <td>2021</td>\n",
       "      <td>TV-MA</td>\n",
       "      <td>1 Season</td>\n",
       "      <td>Docuseries</td>\n",
       "      <td>Feuds, flirtations and toilet talk go down amo...</td>\n",
       "    </tr>\n",
       "    <tr>\n",
       "      <th>4</th>\n",
       "      <td>s5</td>\n",
       "      <td>TV Show</td>\n",
       "      <td>Kota Factory</td>\n",
       "      <td>Unknown</td>\n",
       "      <td>Mayur More</td>\n",
       "      <td>India</td>\n",
       "      <td>September 24, 2021</td>\n",
       "      <td>2021</td>\n",
       "      <td>TV-MA</td>\n",
       "      <td>2 Seasons</td>\n",
       "      <td>International TV Shows</td>\n",
       "      <td>In a city of coaching centers known to train I...</td>\n",
       "    </tr>\n",
       "  </tbody>\n",
       "</table>\n",
       "</div>"
      ],
      "text/plain": [
       "  show_id     type                  title         director           cast  \\\n",
       "0      s1    Movie   Dick Johnson Is Dead  Kirsten Johnson        Unknown   \n",
       "1      s2  TV Show          Blood & Water          Unknown     Ama Qamata   \n",
       "2      s3  TV Show              Ganglands  Julien Leclercq  Sami Bouajila   \n",
       "3      s4  TV Show  Jailbirds New Orleans          Unknown        Unknown   \n",
       "4      s5  TV Show           Kota Factory          Unknown     Mayur More   \n",
       "\n",
       "         country          date_added  release_year rating   duration  \\\n",
       "0  United States  September 25, 2021          2020  PG-13     90 min   \n",
       "1   South Africa  September 24, 2021          2021  TV-MA  2 Seasons   \n",
       "2  United States  September 24, 2021          2021  TV-MA   1 Season   \n",
       "3  United States  September 24, 2021          2021  TV-MA   1 Season   \n",
       "4          India  September 24, 2021          2021  TV-MA  2 Seasons   \n",
       "\n",
       "                listed_in                                        description  \n",
       "0           Documentaries  As her father nears the end of his life, filmm...  \n",
       "1  International TV Shows  After crossing paths at a party, a Cape Town t...  \n",
       "2          Crime TV Shows  To protect his family from a powerful drug lor...  \n",
       "3              Docuseries  Feuds, flirtations and toilet talk go down amo...  \n",
       "4  International TV Shows  In a city of coaching centers known to train I...  "
      ]
     },
     "execution_count": 17,
     "metadata": {},
     "output_type": "execute_result"
    }
   ],
   "source": [
    "df2.head()"
   ]
  },
  {
   "cell_type": "code",
   "execution_count": 18,
   "id": "b8ade14e",
   "metadata": {
    "ExecuteTime": {
     "end_time": "2023-11-17T19:21:30.114567Z",
     "start_time": "2023-11-17T19:21:30.104991Z"
    }
   },
   "outputs": [],
   "source": [
    "#seperate year and month in date_added varible\n",
    "df3 = df2.copy()\n",
    "\n",
    "df3['month'] = df3['date_added'].apply(lambda x : x.lstrip().split(' ')[0])\n",
    "df3['year'] = df3['date_added'].apply(lambda x : x.split(', ')[-1])"
   ]
  },
  {
   "cell_type": "code",
   "execution_count": 19,
   "id": "3f550dd5",
   "metadata": {
    "ExecuteTime": {
     "end_time": "2023-11-17T19:21:30.128541Z",
     "start_time": "2023-11-17T19:21:30.116989Z"
    }
   },
   "outputs": [
    {
     "data": {
      "text/html": [
       "<div>\n",
       "<style scoped>\n",
       "    .dataframe tbody tr th:only-of-type {\n",
       "        vertical-align: middle;\n",
       "    }\n",
       "\n",
       "    .dataframe tbody tr th {\n",
       "        vertical-align: top;\n",
       "    }\n",
       "\n",
       "    .dataframe thead th {\n",
       "        text-align: right;\n",
       "    }\n",
       "</style>\n",
       "<table border=\"1\" class=\"dataframe\">\n",
       "  <thead>\n",
       "    <tr style=\"text-align: right;\">\n",
       "      <th></th>\n",
       "      <th>show_id</th>\n",
       "      <th>type</th>\n",
       "      <th>title</th>\n",
       "      <th>director</th>\n",
       "      <th>cast</th>\n",
       "      <th>country</th>\n",
       "      <th>release_year</th>\n",
       "      <th>rating</th>\n",
       "      <th>duration</th>\n",
       "      <th>listed_in</th>\n",
       "      <th>description</th>\n",
       "      <th>month</th>\n",
       "      <th>year</th>\n",
       "    </tr>\n",
       "  </thead>\n",
       "  <tbody>\n",
       "    <tr>\n",
       "      <th>0</th>\n",
       "      <td>s1</td>\n",
       "      <td>Movie</td>\n",
       "      <td>Dick Johnson Is Dead</td>\n",
       "      <td>Kirsten Johnson</td>\n",
       "      <td>Unknown</td>\n",
       "      <td>United States</td>\n",
       "      <td>2020</td>\n",
       "      <td>PG-13</td>\n",
       "      <td>90 min</td>\n",
       "      <td>Documentaries</td>\n",
       "      <td>As her father nears the end of his life, filmm...</td>\n",
       "      <td>September</td>\n",
       "      <td>2021</td>\n",
       "    </tr>\n",
       "    <tr>\n",
       "      <th>1</th>\n",
       "      <td>s2</td>\n",
       "      <td>TV Show</td>\n",
       "      <td>Blood &amp; Water</td>\n",
       "      <td>Unknown</td>\n",
       "      <td>Ama Qamata</td>\n",
       "      <td>South Africa</td>\n",
       "      <td>2021</td>\n",
       "      <td>TV-MA</td>\n",
       "      <td>2 Seasons</td>\n",
       "      <td>International TV Shows</td>\n",
       "      <td>After crossing paths at a party, a Cape Town t...</td>\n",
       "      <td>September</td>\n",
       "      <td>2021</td>\n",
       "    </tr>\n",
       "    <tr>\n",
       "      <th>2</th>\n",
       "      <td>s3</td>\n",
       "      <td>TV Show</td>\n",
       "      <td>Ganglands</td>\n",
       "      <td>Julien Leclercq</td>\n",
       "      <td>Sami Bouajila</td>\n",
       "      <td>United States</td>\n",
       "      <td>2021</td>\n",
       "      <td>TV-MA</td>\n",
       "      <td>1 Season</td>\n",
       "      <td>Crime TV Shows</td>\n",
       "      <td>To protect his family from a powerful drug lor...</td>\n",
       "      <td>September</td>\n",
       "      <td>2021</td>\n",
       "    </tr>\n",
       "    <tr>\n",
       "      <th>3</th>\n",
       "      <td>s4</td>\n",
       "      <td>TV Show</td>\n",
       "      <td>Jailbirds New Orleans</td>\n",
       "      <td>Unknown</td>\n",
       "      <td>Unknown</td>\n",
       "      <td>United States</td>\n",
       "      <td>2021</td>\n",
       "      <td>TV-MA</td>\n",
       "      <td>1 Season</td>\n",
       "      <td>Docuseries</td>\n",
       "      <td>Feuds, flirtations and toilet talk go down amo...</td>\n",
       "      <td>September</td>\n",
       "      <td>2021</td>\n",
       "    </tr>\n",
       "    <tr>\n",
       "      <th>4</th>\n",
       "      <td>s5</td>\n",
       "      <td>TV Show</td>\n",
       "      <td>Kota Factory</td>\n",
       "      <td>Unknown</td>\n",
       "      <td>Mayur More</td>\n",
       "      <td>India</td>\n",
       "      <td>2021</td>\n",
       "      <td>TV-MA</td>\n",
       "      <td>2 Seasons</td>\n",
       "      <td>International TV Shows</td>\n",
       "      <td>In a city of coaching centers known to train I...</td>\n",
       "      <td>September</td>\n",
       "      <td>2021</td>\n",
       "    </tr>\n",
       "  </tbody>\n",
       "</table>\n",
       "</div>"
      ],
      "text/plain": [
       "  show_id     type                  title         director           cast  \\\n",
       "0      s1    Movie   Dick Johnson Is Dead  Kirsten Johnson        Unknown   \n",
       "1      s2  TV Show          Blood & Water          Unknown     Ama Qamata   \n",
       "2      s3  TV Show              Ganglands  Julien Leclercq  Sami Bouajila   \n",
       "3      s4  TV Show  Jailbirds New Orleans          Unknown        Unknown   \n",
       "4      s5  TV Show           Kota Factory          Unknown     Mayur More   \n",
       "\n",
       "         country  release_year rating   duration               listed_in  \\\n",
       "0  United States          2020  PG-13     90 min           Documentaries   \n",
       "1   South Africa          2021  TV-MA  2 Seasons  International TV Shows   \n",
       "2  United States          2021  TV-MA   1 Season          Crime TV Shows   \n",
       "3  United States          2021  TV-MA   1 Season              Docuseries   \n",
       "4          India          2021  TV-MA  2 Seasons  International TV Shows   \n",
       "\n",
       "                                         description      month  year  \n",
       "0  As her father nears the end of his life, filmm...  September  2021  \n",
       "1  After crossing paths at a party, a Cape Town t...  September  2021  \n",
       "2  To protect his family from a powerful drug lor...  September  2021  \n",
       "3  Feuds, flirtations and toilet talk go down amo...  September  2021  \n",
       "4  In a city of coaching centers known to train I...  September  2021  "
      ]
     },
     "execution_count": 19,
     "metadata": {},
     "output_type": "execute_result"
    }
   ],
   "source": [
    "#drop date_added\n",
    "df3=df3.drop('date_added',axis = 1)\n",
    "df3.head()"
   ]
  },
  {
   "cell_type": "code",
   "execution_count": 20,
   "id": "b7b690cc",
   "metadata": {
    "ExecuteTime": {
     "end_time": "2023-11-17T19:21:30.140810Z",
     "start_time": "2023-11-17T19:21:30.129661Z"
    }
   },
   "outputs": [
    {
     "data": {
      "text/html": [
       "<div>\n",
       "<style scoped>\n",
       "    .dataframe tbody tr th:only-of-type {\n",
       "        vertical-align: middle;\n",
       "    }\n",
       "\n",
       "    .dataframe tbody tr th {\n",
       "        vertical-align: top;\n",
       "    }\n",
       "\n",
       "    .dataframe thead th {\n",
       "        text-align: right;\n",
       "    }\n",
       "</style>\n",
       "<table border=\"1\" class=\"dataframe\">\n",
       "  <thead>\n",
       "    <tr style=\"text-align: right;\">\n",
       "      <th></th>\n",
       "      <th>show_id</th>\n",
       "      <th>type</th>\n",
       "      <th>title</th>\n",
       "      <th>director</th>\n",
       "      <th>cast</th>\n",
       "      <th>country</th>\n",
       "      <th>release_year</th>\n",
       "      <th>rating</th>\n",
       "      <th>duration</th>\n",
       "      <th>listed_in</th>\n",
       "      <th>description</th>\n",
       "      <th>month</th>\n",
       "      <th>year</th>\n",
       "      <th>months</th>\n",
       "    </tr>\n",
       "  </thead>\n",
       "  <tbody>\n",
       "    <tr>\n",
       "      <th>0</th>\n",
       "      <td>s1</td>\n",
       "      <td>Movie</td>\n",
       "      <td>Dick Johnson Is Dead</td>\n",
       "      <td>Kirsten Johnson</td>\n",
       "      <td>Unknown</td>\n",
       "      <td>United States</td>\n",
       "      <td>2020</td>\n",
       "      <td>PG-13</td>\n",
       "      <td>90 min</td>\n",
       "      <td>Documentaries</td>\n",
       "      <td>As her father nears the end of his life, filmm...</td>\n",
       "      <td>September</td>\n",
       "      <td>2021</td>\n",
       "      <td>9</td>\n",
       "    </tr>\n",
       "    <tr>\n",
       "      <th>1</th>\n",
       "      <td>s2</td>\n",
       "      <td>TV Show</td>\n",
       "      <td>Blood &amp; Water</td>\n",
       "      <td>Unknown</td>\n",
       "      <td>Ama Qamata</td>\n",
       "      <td>South Africa</td>\n",
       "      <td>2021</td>\n",
       "      <td>TV-MA</td>\n",
       "      <td>2 Seasons</td>\n",
       "      <td>International TV Shows</td>\n",
       "      <td>After crossing paths at a party, a Cape Town t...</td>\n",
       "      <td>September</td>\n",
       "      <td>2021</td>\n",
       "      <td>9</td>\n",
       "    </tr>\n",
       "    <tr>\n",
       "      <th>2</th>\n",
       "      <td>s3</td>\n",
       "      <td>TV Show</td>\n",
       "      <td>Ganglands</td>\n",
       "      <td>Julien Leclercq</td>\n",
       "      <td>Sami Bouajila</td>\n",
       "      <td>United States</td>\n",
       "      <td>2021</td>\n",
       "      <td>TV-MA</td>\n",
       "      <td>1 Season</td>\n",
       "      <td>Crime TV Shows</td>\n",
       "      <td>To protect his family from a powerful drug lor...</td>\n",
       "      <td>September</td>\n",
       "      <td>2021</td>\n",
       "      <td>9</td>\n",
       "    </tr>\n",
       "    <tr>\n",
       "      <th>3</th>\n",
       "      <td>s4</td>\n",
       "      <td>TV Show</td>\n",
       "      <td>Jailbirds New Orleans</td>\n",
       "      <td>Unknown</td>\n",
       "      <td>Unknown</td>\n",
       "      <td>United States</td>\n",
       "      <td>2021</td>\n",
       "      <td>TV-MA</td>\n",
       "      <td>1 Season</td>\n",
       "      <td>Docuseries</td>\n",
       "      <td>Feuds, flirtations and toilet talk go down amo...</td>\n",
       "      <td>September</td>\n",
       "      <td>2021</td>\n",
       "      <td>9</td>\n",
       "    </tr>\n",
       "    <tr>\n",
       "      <th>4</th>\n",
       "      <td>s5</td>\n",
       "      <td>TV Show</td>\n",
       "      <td>Kota Factory</td>\n",
       "      <td>Unknown</td>\n",
       "      <td>Mayur More</td>\n",
       "      <td>India</td>\n",
       "      <td>2021</td>\n",
       "      <td>TV-MA</td>\n",
       "      <td>2 Seasons</td>\n",
       "      <td>International TV Shows</td>\n",
       "      <td>In a city of coaching centers known to train I...</td>\n",
       "      <td>September</td>\n",
       "      <td>2021</td>\n",
       "      <td>9</td>\n",
       "    </tr>\n",
       "  </tbody>\n",
       "</table>\n",
       "</div>"
      ],
      "text/plain": [
       "  show_id     type                  title         director           cast  \\\n",
       "0      s1    Movie   Dick Johnson Is Dead  Kirsten Johnson        Unknown   \n",
       "1      s2  TV Show          Blood & Water          Unknown     Ama Qamata   \n",
       "2      s3  TV Show              Ganglands  Julien Leclercq  Sami Bouajila   \n",
       "3      s4  TV Show  Jailbirds New Orleans          Unknown        Unknown   \n",
       "4      s5  TV Show           Kota Factory          Unknown     Mayur More   \n",
       "\n",
       "         country  release_year rating   duration               listed_in  \\\n",
       "0  United States          2020  PG-13     90 min           Documentaries   \n",
       "1   South Africa          2021  TV-MA  2 Seasons  International TV Shows   \n",
       "2  United States          2021  TV-MA   1 Season          Crime TV Shows   \n",
       "3  United States          2021  TV-MA   1 Season              Docuseries   \n",
       "4          India          2021  TV-MA  2 Seasons  International TV Shows   \n",
       "\n",
       "                                         description      month  year  months  \n",
       "0  As her father nears the end of his life, filmm...  September  2021       9  \n",
       "1  After crossing paths at a party, a Cape Town t...  September  2021       9  \n",
       "2  To protect his family from a powerful drug lor...  September  2021       9  \n",
       "3  Feuds, flirtations and toilet talk go down amo...  September  2021       9  \n",
       "4  In a city of coaching centers known to train I...  September  2021       9  "
      ]
     },
     "execution_count": 20,
     "metadata": {},
     "output_type": "execute_result"
    }
   ],
   "source": [
    "#change month from string to numerical number\n",
    "\n",
    "month_mapping = {\n",
    "    'January': 1, 'February': 2, 'March': 3, 'April': 4,\n",
    "    'May': 5, 'June': 6, 'July': 7, 'August': 8,\n",
    "    'September': 9, 'October': 10, 'November': 11, 'December': 12\n",
    "}\n",
    "\n",
    "# Map month names to their numerical representation and create a new 'month_numeric' column\n",
    "df3['months'] = df3['month'].map(month_mapping)\n",
    "\n",
    "# Display the DataFrame with the new 'month_numeric' column\n",
    "df3.head()"
   ]
  },
  {
   "cell_type": "code",
   "execution_count": 21,
   "id": "202296ec",
   "metadata": {
    "ExecuteTime": {
     "end_time": "2023-11-17T19:21:30.147296Z",
     "start_time": "2023-11-17T19:21:30.141928Z"
    }
   },
   "outputs": [],
   "source": [
    "df3=df3.drop('month',axis = 1)"
   ]
  },
  {
   "cell_type": "markdown",
   "id": "b0fd4fb1",
   "metadata": {},
   "source": [
    "### Summary \n",
    "\n",
    "The dataset has been preprocessed by transforming string columns into lists, handling anomalies in the rating column, dealing with missing values in director, cast, date_added, rating, and duration columns, and separating month and year information from date_added before dropping date_added."
   ]
  },
  {
   "cell_type": "markdown",
   "id": "2ae294b1",
   "metadata": {},
   "source": [
    "### Visualization"
   ]
  },
  {
   "cell_type": "markdown",
   "id": "b0c99c9b",
   "metadata": {},
   "source": [
    "### Summary :\n",
    "\n",
    "1. Movies are notably more numerous than TV Shows in the Netflix dataset, suggesting that the platform predominantly offers movies.\n",
    "\n",
    "2. This disparity might indicate Netflix's focus or the content available during the time the dataset was compiled."
   ]
  },
  {
   "cell_type": "code",
   "execution_count": 22,
   "id": "5d6fa848",
   "metadata": {
    "ExecuteTime": {
     "end_time": "2023-11-17T19:21:30.223573Z",
     "start_time": "2023-11-17T19:21:30.148713Z"
    }
   },
   "outputs": [
    {
     "data": {
      "image/png": "[encoded data removed]",
      "text/plain": [
       "<Figure size 360x360 with 1 Axes>"
      ]
     },
     "metadata": {
      "needs_background": "light"
     },
     "output_type": "display_data"
    }
   ],
   "source": [
    "plt.figure(figsize=(5,5))\n",
    "sns.countplot(x ='type', data = df3, palette=\"muted\")\n",
    "plt.show()"
   ]
  },
  {
   "cell_type": "markdown",
   "id": "a1627d13",
   "metadata": {},
   "source": [
    "### Summary :\n",
    "\n",
    "We notice that netflix tend to  release the majority of its show and movie in July, November and December throughout the year, this could be a contributing factor of increased viewership during the vacation season, as more people are more likely to binge-watch on Netflix on this time."
   ]
  },
  {
   "cell_type": "code",
   "execution_count": 23,
   "id": "f053f040",
   "metadata": {
    "ExecuteTime": {
     "end_time": "2023-11-17T19:21:30.884056Z",
     "start_time": "2023-11-17T19:21:30.224984Z"
    }
   },
   "outputs": [
    {
     "data": {
      "image/png": "[encoded data removed]",
      "text/plain": [
       "<Figure size 864x576 with 2 Axes>"
      ]
     },
     "metadata": {
      "needs_background": "light"
     },
     "output_type": "display_data"
    }
   ],
   "source": [
    "# Convert the heatmap data to numeric values, filling NaN with 0\n",
    "heatmap_data = df3.groupby(['months','year']).size().unstack().fillna(0)\n",
    "\n",
    "# Plot the heatmap\n",
    "plt.figure(figsize=(12, 8))\n",
    "sns.heatmap(heatmap_data, cmap=\"flare\", annot=True, fmt=\"g\", linewidths=.5, cbar_kws={'label': 'Number of Releases'})\n",
    "plt.title('Distribution of Releases by Year and Month')\n",
    "plt.show()"
   ]
  },
  {
   "cell_type": "markdown",
   "id": "868f612f",
   "metadata": {},
   "source": [
    "### Summary \n",
    "\n",
    "By visualizing the data, it's noteworthy that the predominant rating across both media is TV-MA indicating that the show is designed for mature audience."
   ]
  },
  {
   "cell_type": "code",
   "execution_count": 24,
   "id": "03585c47",
   "metadata": {
    "ExecuteTime": {
     "end_time": "2023-11-17T19:21:31.052187Z",
     "start_time": "2023-11-17T19:21:30.886142Z"
    }
   },
   "outputs": [
    {
     "data": {
      "image/png": "[encoded data removed]",
      "text/plain": [
       "<Figure size 720x360 with 1 Axes>"
      ]
     },
     "metadata": {
      "needs_background": "light"
     },
     "output_type": "display_data"
    }
   ],
   "source": [
    "plt.figure(figsize = (10,5))\n",
    "sns.countplot(x= 'rating',hue = \"type\",data = df3,order=df3['rating'].value_counts().index)\n",
    "plt.xticks(rotation=45)\n",
    "plt.show()"
   ]
  },
  {
   "cell_type": "code",
   "execution_count": 25,
   "id": "a39f75ce",
   "metadata": {
    "ExecuteTime": {
     "end_time": "2023-11-17T19:21:31.061475Z",
     "start_time": "2023-11-17T19:21:31.053484Z"
    }
   },
   "outputs": [
    {
     "data": {
      "text/html": [
       "<div>\n",
       "<style scoped>\n",
       "    .dataframe tbody tr th:only-of-type {\n",
       "        vertical-align: middle;\n",
       "    }\n",
       "\n",
       "    .dataframe tbody tr th {\n",
       "        vertical-align: top;\n",
       "    }\n",
       "\n",
       "    .dataframe thead th {\n",
       "        text-align: right;\n",
       "    }\n",
       "</style>\n",
       "<table border=\"1\" class=\"dataframe\">\n",
       "  <thead>\n",
       "    <tr style=\"text-align: right;\">\n",
       "      <th></th>\n",
       "      <th>show_id</th>\n",
       "      <th>type</th>\n",
       "      <th>title</th>\n",
       "      <th>director</th>\n",
       "      <th>cast</th>\n",
       "      <th>country</th>\n",
       "      <th>release_year</th>\n",
       "      <th>rating</th>\n",
       "      <th>duration</th>\n",
       "      <th>listed_in</th>\n",
       "      <th>description</th>\n",
       "      <th>year</th>\n",
       "      <th>months</th>\n",
       "    </tr>\n",
       "  </thead>\n",
       "  <tbody>\n",
       "    <tr>\n",
       "      <th>0</th>\n",
       "      <td>s1</td>\n",
       "      <td>Movie</td>\n",
       "      <td>Dick Johnson Is Dead</td>\n",
       "      <td>Kirsten Johnson</td>\n",
       "      <td>Unknown</td>\n",
       "      <td>United States</td>\n",
       "      <td>2020</td>\n",
       "      <td>PG-13</td>\n",
       "      <td>90 min</td>\n",
       "      <td>Documentaries</td>\n",
       "      <td>As her father nears the end of his life, filmm...</td>\n",
       "      <td>2021</td>\n",
       "      <td>9</td>\n",
       "    </tr>\n",
       "    <tr>\n",
       "      <th>1</th>\n",
       "      <td>s2</td>\n",
       "      <td>TV Show</td>\n",
       "      <td>Blood &amp; Water</td>\n",
       "      <td>Unknown</td>\n",
       "      <td>Ama Qamata</td>\n",
       "      <td>South Africa</td>\n",
       "      <td>2021</td>\n",
       "      <td>TV-MA</td>\n",
       "      <td>2 Seasons</td>\n",
       "      <td>International TV Shows</td>\n",
       "      <td>After crossing paths at a party, a Cape Town t...</td>\n",
       "      <td>2021</td>\n",
       "      <td>9</td>\n",
       "    </tr>\n",
       "    <tr>\n",
       "      <th>2</th>\n",
       "      <td>s3</td>\n",
       "      <td>TV Show</td>\n",
       "      <td>Ganglands</td>\n",
       "      <td>Julien Leclercq</td>\n",
       "      <td>Sami Bouajila</td>\n",
       "      <td>United States</td>\n",
       "      <td>2021</td>\n",
       "      <td>TV-MA</td>\n",
       "      <td>1 Season</td>\n",
       "      <td>Crime TV Shows</td>\n",
       "      <td>To protect his family from a powerful drug lor...</td>\n",
       "      <td>2021</td>\n",
       "      <td>9</td>\n",
       "    </tr>\n",
       "    <tr>\n",
       "      <th>3</th>\n",
       "      <td>s4</td>\n",
       "      <td>TV Show</td>\n",
       "      <td>Jailbirds New Orleans</td>\n",
       "      <td>Unknown</td>\n",
       "      <td>Unknown</td>\n",
       "      <td>United States</td>\n",
       "      <td>2021</td>\n",
       "      <td>TV-MA</td>\n",
       "      <td>1 Season</td>\n",
       "      <td>Docuseries</td>\n",
       "      <td>Feuds, flirtations and toilet talk go down amo...</td>\n",
       "      <td>2021</td>\n",
       "      <td>9</td>\n",
       "    </tr>\n",
       "    <tr>\n",
       "      <th>4</th>\n",
       "      <td>s5</td>\n",
       "      <td>TV Show</td>\n",
       "      <td>Kota Factory</td>\n",
       "      <td>Unknown</td>\n",
       "      <td>Mayur More</td>\n",
       "      <td>India</td>\n",
       "      <td>2021</td>\n",
       "      <td>TV-MA</td>\n",
       "      <td>2 Seasons</td>\n",
       "      <td>International TV Shows</td>\n",
       "      <td>In a city of coaching centers known to train I...</td>\n",
       "      <td>2021</td>\n",
       "      <td>9</td>\n",
       "    </tr>\n",
       "  </tbody>\n",
       "</table>\n",
       "</div>"
      ],
      "text/plain": [
       "  show_id     type                  title         director           cast  \\\n",
       "0      s1    Movie   Dick Johnson Is Dead  Kirsten Johnson        Unknown   \n",
       "1      s2  TV Show          Blood & Water          Unknown     Ama Qamata   \n",
       "2      s3  TV Show              Ganglands  Julien Leclercq  Sami Bouajila   \n",
       "3      s4  TV Show  Jailbirds New Orleans          Unknown        Unknown   \n",
       "4      s5  TV Show           Kota Factory          Unknown     Mayur More   \n",
       "\n",
       "         country  release_year rating   duration               listed_in  \\\n",
       "0  United States          2020  PG-13     90 min           Documentaries   \n",
       "1   South Africa          2021  TV-MA  2 Seasons  International TV Shows   \n",
       "2  United States          2021  TV-MA   1 Season          Crime TV Shows   \n",
       "3  United States          2021  TV-MA   1 Season              Docuseries   \n",
       "4          India          2021  TV-MA  2 Seasons  International TV Shows   \n",
       "\n",
       "                                         description  year  months  \n",
       "0  As her father nears the end of his life, filmm...  2021       9  \n",
       "1  After crossing paths at a party, a Cape Town t...  2021       9  \n",
       "2  To protect his family from a powerful drug lor...  2021       9  \n",
       "3  Feuds, flirtations and toilet talk go down amo...  2021       9  \n",
       "4  In a city of coaching centers known to train I...  2021       9  "
      ]
     },
     "execution_count": 25,
     "metadata": {},
     "output_type": "execute_result"
    }
   ],
   "source": [
    "df3.head()"
   ]
  },
  {
   "cell_type": "markdown",
   "id": "f7780157",
   "metadata": {},
   "source": [
    "### Summary\n",
    "By visualizing top ten countries contributing production in Netflix, it's evident that the US has highest production volumns followed by  India in the second position."
   ]
  },
  {
   "cell_type": "code",
   "execution_count": 26,
   "id": "f264e43c",
   "metadata": {
    "ExecuteTime": {
     "end_time": "2023-11-17T19:21:31.066893Z",
     "start_time": "2023-11-17T19:21:31.062458Z"
    }
   },
   "outputs": [
    {
     "data": {
      "text/plain": [
       "United States     4042\n",
       "India             1008\n",
       "United Kingdom     628\n",
       "Canada             271\n",
       "Japan              259\n",
       "France             212\n",
       "South Korea        211\n",
       "Spain              181\n",
       "Mexico             134\n",
       "Australia          117\n",
       "Name: country, dtype: int64"
      ]
     },
     "execution_count": 26,
     "metadata": {},
     "output_type": "execute_result"
    }
   ],
   "source": [
    "country_count = df3['country'].value_counts()\n",
    "country_count[:10]"
   ]
  },
  {
   "cell_type": "code",
   "execution_count": 27,
   "id": "16b3cd18",
   "metadata": {
    "ExecuteTime": {
     "end_time": "2023-11-17T19:21:31.072350Z",
     "start_time": "2023-11-17T19:21:31.068060Z"
    }
   },
   "outputs": [
    {
     "data": {
      "text/plain": [
       "Index(['United States', 'India', 'United Kingdom', 'Canada', 'Japan', 'France',\n",
       "       'South Korea', 'Spain', 'Mexico', 'Australia'],\n",
       "      dtype='object')"
      ]
     },
     "execution_count": 27,
     "metadata": {},
     "output_type": "execute_result"
    }
   ],
   "source": [
    "country_index = df3['country'].value_counts().index\n",
    "country_index[:10]"
   ]
  },
  {
   "cell_type": "code",
   "execution_count": 28,
   "id": "9d067ad0",
   "metadata": {
    "ExecuteTime": {
     "end_time": "2023-11-17T19:21:31.178010Z",
     "start_time": "2023-11-17T19:21:31.073257Z"
    }
   },
   "outputs": [
    {
     "data": {
      "image/png": "[encoded data removed]",
      "text/plain": [
       "<Figure size 576x360 with 1 Axes>"
      ]
     },
     "metadata": {
      "needs_background": "light"
     },
     "output_type": "display_data"
    }
   ],
   "source": [
    "plt.figure(figsize=(8, 5))\n",
    "sns.barplot(x=country_index[:10], y=country_count[:10])\n",
    "plt.xticks(rotation=45)\n",
    "plt.show()"
   ]
  },
  {
   "cell_type": "code",
   "execution_count": 29,
   "id": "4b465360",
   "metadata": {
    "ExecuteTime": {
     "end_time": "2023-11-17T19:21:31.196304Z",
     "start_time": "2023-11-17T19:21:31.180105Z"
    },
    "scrolled": true
   },
   "outputs": [
    {
     "name": "stdout",
     "output_type": "stream",
     "text": [
      "{'Documentaries': 829, 'International TV Shows': 774, ' TV Dramas': 696, ' TV Mysteries': 98, 'Crime TV Shows': 399, ' International TV Shows': 577, ' TV Action & Adventure': 128, 'Docuseries': 221, ' Reality TV': 135, ' Romantic TV Shows': 338, ' TV Comedies': 461, 'TV Dramas': 67, ' TV Horror': 64, 'Children & Family Movies': 605, 'Dramas': 1600, ' Independent Movies': 736, ' International Movies': 2624, 'British TV Shows': 253, 'Comedies': 1210, ' Dramas': 827, ' Docuseries': 174, ' Comedies': 464, ' Crime TV Shows': 71, 'TV Comedies': 120, ' Spanish-Language TV Shows': 172, 'Thrillers': 65, ' Romantic Movies': 613, ' Music & Musicals': 357, 'Horror Movies': 275, ' Sci-Fi & Fantasy': 230, ' TV Thrillers': 57, \"Kids' TV\": 388, ' Thrillers': 512, 'Action & Adventure': 859, ' TV Sci-Fi & Fantasy': 83, ' Classic Movies': 36, ' Horror Movies': 82, ' Anime Features': 50, 'Reality TV': 120, ' Sports Movies': 218, 'Anime Series': 176, \" Kids' TV\": 63, 'International Movies': 128, ' Korean TV Shows': 151, 'Sci-Fi & Fantasy': 13, ' Science & Nature TV': 92, ' Teen TV Shows': 69, ' Cult Movies': 59, 'Classic Movies': 80, 'TV Shows': 16, ' Children & Family Movies': 36, ' Faith & Spirituality': 65, ' LGBTQ Movies': 101, 'Stand-Up Comedy': 334, 'TV Action & Adventure': 40, 'Movies': 57, 'Stand-Up Comedy & Talk Shows': 34, 'Classic & Cult TV': 22, ' Stand-Up Comedy & Talk Shows': 22, 'Anime Features': 21, ' Documentaries': 40, 'Romantic TV Shows': 32, 'Cult Movies': 12, 'Independent Movies': 20, 'TV Horror': 11, 'Spanish-Language TV Shows': 2, ' Classic & Cult TV': 6, 'Music & Musicals': 18, 'Romantic Movies': 3, 'LGBTQ Movies': 1, ' Stand-Up Comedy': 9, 'TV Sci-Fi & Fantasy': 1, 'Sports Movies': 1}\n"
     ]
    }
   ],
   "source": [
    "df4 = df3.copy()\n",
    "\n",
    "genres=df['listed_in']\n",
    "gen=[]\n",
    "\n",
    "g = {}\n",
    "\n",
    "for i in genres:  \n",
    "    for j in i:\n",
    "        if j in g:\n",
    "            g[j] += 1\n",
    "        else:\n",
    "            g[j] = 1\n",
    "\n",
    "print(g)"
   ]
  },
  {
   "cell_type": "markdown",
   "id": "114c728d",
   "metadata": {},
   "source": [
    "### Summary :\n",
    "Genres like International Movies, Dramas, Comedies, Action & Adventure, Children & Family Movies, and Documentaries appear to be among the most frequently occurring genres based on their larger representation in the word cloud."
   ]
  },
  {
   "cell_type": "code",
   "execution_count": 30,
   "id": "cae7332e",
   "metadata": {
    "ExecuteTime": {
     "end_time": "2023-11-17T19:21:31.286504Z",
     "start_time": "2023-11-17T19:21:31.199468Z"
    }
   },
   "outputs": [],
   "source": [
    "from wordcloud import WordCloud"
   ]
  },
  {
   "cell_type": "code",
   "execution_count": 31,
   "id": "2d645af4",
   "metadata": {
    "ExecuteTime": {
     "end_time": "2023-11-17T19:21:31.836269Z",
     "start_time": "2023-11-17T19:21:31.288390Z"
    }
   },
   "outputs": [
    {
     "data": {
      "image/png": "[encoded data removed]",
      "text/plain": [
       "<Figure size 1080x720 with 1 Axes>"
      ]
     },
     "metadata": {
      "needs_background": "light"
     },
     "output_type": "display_data"
    }
   ],
   "source": [
    "# Create a WordCloud object\n",
    "wordcloud = WordCloud(scale=6, background_color='white').generate_from_frequencies(g)\n",
    "\n",
    "# Display the WordCloud using matplotlib\n",
    "plt.figure(figsize=(15, 10))\n",
    "plt.imshow(wordcloud, interpolation='bilinear')\n",
    "plt.axis('off')  # Turn off axis numbers and ticks\n",
    "plt.show()"
   ]
  },
  {
   "cell_type": "markdown",
   "id": "7d7c07be",
   "metadata": {},
   "source": [
    "## Cosine Similarity Approach:\n",
    "\n",
    "### Summary \n",
    "\n",
    "#### Introduction:\n",
    "The Cosine Similarity method was employed to recommend shows on Netflix based on their textual descriptions. This method utilizes TF-IDF vectors to represent the descriptions and computes the cosine similarity between them. The goal was to suggest similar shows to a queried show based on the similarity of their descriptions.\n",
    "#### Methodology and Implementation:\n",
    "We utilized the Netflix dataset containing show titles and descriptions. The following Python libraries were employed: sklearn.metrics.pairwise.cosine_similarity for calculating cosine similarity and sklearn.feature_extraction.text.TfidfVectorizer for generating TF-IDF Example Results:\n",
    "For instance, using the query title \"My Runway,\" the system recommended the top ten shows based on textual description similarity.\n",
    "#### Discussion:\n",
    "The Cosine Similarity method effectively identified shows with descriptions akin to the queried show. By comparing the textual content using TF-IDF vectors and cosine similarity, the algorithm successfully recommended shows that exhibited similar themes or narratives. However, limitations may arise in cases where shows have subtle nuances or complex descriptions that the method might not capture accurately."
   ]
  },
  {
   "cell_type": "code",
   "execution_count": 32,
   "id": "c98b857b",
   "metadata": {
    "ExecuteTime": {
     "end_time": "2023-11-17T19:21:32.134820Z",
     "start_time": "2023-11-17T19:21:31.838082Z"
    }
   },
   "outputs": [],
   "source": [
    "from sklearn.metrics.pairwise import cosine_similarity\n",
    "from sklearn.feature_extraction.text import TfidfVectorizer"
   ]
  },
  {
   "cell_type": "code",
   "execution_count": 33,
   "id": "defe891a",
   "metadata": {
    "ExecuteTime": {
     "end_time": "2023-11-17T19:21:32.146034Z",
     "start_time": "2023-11-17T19:21:32.136153Z"
    }
   },
   "outputs": [
    {
     "data": {
      "text/html": [
       "<div>\n",
       "<style scoped>\n",
       "    .dataframe tbody tr th:only-of-type {\n",
       "        vertical-align: middle;\n",
       "    }\n",
       "\n",
       "    .dataframe tbody tr th {\n",
       "        vertical-align: top;\n",
       "    }\n",
       "\n",
       "    .dataframe thead th {\n",
       "        text-align: right;\n",
       "    }\n",
       "</style>\n",
       "<table border=\"1\" class=\"dataframe\">\n",
       "  <thead>\n",
       "    <tr style=\"text-align: right;\">\n",
       "      <th></th>\n",
       "      <th>show_id</th>\n",
       "      <th>type</th>\n",
       "      <th>title</th>\n",
       "      <th>director</th>\n",
       "      <th>cast</th>\n",
       "      <th>country</th>\n",
       "      <th>release_year</th>\n",
       "      <th>rating</th>\n",
       "      <th>duration</th>\n",
       "      <th>listed_in</th>\n",
       "      <th>description</th>\n",
       "      <th>year</th>\n",
       "      <th>months</th>\n",
       "    </tr>\n",
       "  </thead>\n",
       "  <tbody>\n",
       "    <tr>\n",
       "      <th>0</th>\n",
       "      <td>s1</td>\n",
       "      <td>Movie</td>\n",
       "      <td>Dick Johnson Is Dead</td>\n",
       "      <td>Kirsten Johnson</td>\n",
       "      <td>Unknown</td>\n",
       "      <td>United States</td>\n",
       "      <td>2020</td>\n",
       "      <td>PG-13</td>\n",
       "      <td>90 min</td>\n",
       "      <td>Documentaries</td>\n",
       "      <td>As her father nears the end of his life, filmm...</td>\n",
       "      <td>2021</td>\n",
       "      <td>9</td>\n",
       "    </tr>\n",
       "    <tr>\n",
       "      <th>1</th>\n",
       "      <td>s2</td>\n",
       "      <td>TV Show</td>\n",
       "      <td>Blood &amp; Water</td>\n",
       "      <td>Unknown</td>\n",
       "      <td>Ama Qamata</td>\n",
       "      <td>South Africa</td>\n",
       "      <td>2021</td>\n",
       "      <td>TV-MA</td>\n",
       "      <td>2 Seasons</td>\n",
       "      <td>International TV Shows</td>\n",
       "      <td>After crossing paths at a party, a Cape Town t...</td>\n",
       "      <td>2021</td>\n",
       "      <td>9</td>\n",
       "    </tr>\n",
       "    <tr>\n",
       "      <th>2</th>\n",
       "      <td>s3</td>\n",
       "      <td>TV Show</td>\n",
       "      <td>Ganglands</td>\n",
       "      <td>Julien Leclercq</td>\n",
       "      <td>Sami Bouajila</td>\n",
       "      <td>United States</td>\n",
       "      <td>2021</td>\n",
       "      <td>TV-MA</td>\n",
       "      <td>1 Season</td>\n",
       "      <td>Crime TV Shows</td>\n",
       "      <td>To protect his family from a powerful drug lor...</td>\n",
       "      <td>2021</td>\n",
       "      <td>9</td>\n",
       "    </tr>\n",
       "    <tr>\n",
       "      <th>3</th>\n",
       "      <td>s4</td>\n",
       "      <td>TV Show</td>\n",
       "      <td>Jailbirds New Orleans</td>\n",
       "      <td>Unknown</td>\n",
       "      <td>Unknown</td>\n",
       "      <td>United States</td>\n",
       "      <td>2021</td>\n",
       "      <td>TV-MA</td>\n",
       "      <td>1 Season</td>\n",
       "      <td>Docuseries</td>\n",
       "      <td>Feuds, flirtations and toilet talk go down amo...</td>\n",
       "      <td>2021</td>\n",
       "      <td>9</td>\n",
       "    </tr>\n",
       "    <tr>\n",
       "      <th>4</th>\n",
       "      <td>s5</td>\n",
       "      <td>TV Show</td>\n",
       "      <td>Kota Factory</td>\n",
       "      <td>Unknown</td>\n",
       "      <td>Mayur More</td>\n",
       "      <td>India</td>\n",
       "      <td>2021</td>\n",
       "      <td>TV-MA</td>\n",
       "      <td>2 Seasons</td>\n",
       "      <td>International TV Shows</td>\n",
       "      <td>In a city of coaching centers known to train I...</td>\n",
       "      <td>2021</td>\n",
       "      <td>9</td>\n",
       "    </tr>\n",
       "  </tbody>\n",
       "</table>\n",
       "</div>"
      ],
      "text/plain": [
       "  show_id     type                  title         director           cast  \\\n",
       "0      s1    Movie   Dick Johnson Is Dead  Kirsten Johnson        Unknown   \n",
       "1      s2  TV Show          Blood & Water          Unknown     Ama Qamata   \n",
       "2      s3  TV Show              Ganglands  Julien Leclercq  Sami Bouajila   \n",
       "3      s4  TV Show  Jailbirds New Orleans          Unknown        Unknown   \n",
       "4      s5  TV Show           Kota Factory          Unknown     Mayur More   \n",
       "\n",
       "         country  release_year rating   duration               listed_in  \\\n",
       "0  United States          2020  PG-13     90 min           Documentaries   \n",
       "1   South Africa          2021  TV-MA  2 Seasons  International TV Shows   \n",
       "2  United States          2021  TV-MA   1 Season          Crime TV Shows   \n",
       "3  United States          2021  TV-MA   1 Season              Docuseries   \n",
       "4          India          2021  TV-MA  2 Seasons  International TV Shows   \n",
       "\n",
       "                                         description  year  months  \n",
       "0  As her father nears the end of his life, filmm...  2021       9  \n",
       "1  After crossing paths at a party, a Cape Town t...  2021       9  \n",
       "2  To protect his family from a powerful drug lor...  2021       9  \n",
       "3  Feuds, flirtations and toilet talk go down amo...  2021       9  \n",
       "4  In a city of coaching centers known to train I...  2021       9  "
      ]
     },
     "execution_count": 33,
     "metadata": {},
     "output_type": "execute_result"
    }
   ],
   "source": [
    "df5 = df4.copy()\n",
    "df5.head()"
   ]
  },
  {
   "cell_type": "code",
   "execution_count": 34,
   "id": "f118f04c",
   "metadata": {
    "ExecuteTime": {
     "end_time": "2023-11-17T19:21:34.178947Z",
     "start_time": "2023-11-17T19:21:32.148935Z"
    }
   },
   "outputs": [],
   "source": [
    "vectorizer = TfidfVectorizer()\n",
    "transform = vectorizer.fit_transform(df5['description'])\n",
    "cs = cosine_similarity(transform, transform)\n",
    "data = df5['title']"
   ]
  },
  {
   "cell_type": "code",
   "execution_count": 35,
   "id": "9581459f",
   "metadata": {
    "ExecuteTime": {
     "end_time": "2023-11-17T19:21:34.182621Z",
     "start_time": "2023-11-17T19:21:34.179963Z"
    }
   },
   "outputs": [],
   "source": [
    "def netflix_recommendations_description(title, cs = cs):\n",
    "  title_search = pd.Index(data).get_loc(title)\n",
    "  sim = list(enumerate(cs[title_search]))\n",
    "  sim = sorted(sim, key=lambda x: x[1], reverse = True)\n",
    "  top_ten = sim[1:11]\n",
    "  recom = [i[0] for i in top_ten]\n",
    "  return df5[['title', 'description']].iloc[recom]"
   ]
  },
  {
   "cell_type": "code",
   "execution_count": 58,
   "id": "af1c1032",
   "metadata": {
    "ExecuteTime": {
     "end_time": "2023-11-17T19:21:34.193732Z",
     "start_time": "2023-11-17T19:21:34.183516Z"
    }
   },
   "outputs": [
    {
     "data": {
      "text/html": [
       "<div>\n",
       "<style scoped>\n",
       "    .dataframe tbody tr th:only-of-type {\n",
       "        vertical-align: middle;\n",
       "    }\n",
       "\n",
       "    .dataframe tbody tr th {\n",
       "        vertical-align: top;\n",
       "    }\n",
       "\n",
       "    .dataframe thead th {\n",
       "        text-align: right;\n",
       "    }\n",
       "</style>\n",
       "<table border=\"1\" class=\"dataframe\">\n",
       "  <thead>\n",
       "    <tr style=\"text-align: right;\">\n",
       "      <th></th>\n",
       "      <th>title</th>\n",
       "      <th>description</th>\n",
       "    </tr>\n",
       "  </thead>\n",
       "  <tbody>\n",
       "    <tr>\n",
       "      <th>3331</th>\n",
       "      <td>Christmas in the Heartland</td>\n",
       "      <td>Two girls realize they're both visiting grandp...</td>\n",
       "    </tr>\n",
       "    <tr>\n",
       "      <th>8048</th>\n",
       "      <td>Social Animals</td>\n",
       "      <td>This documentary follows a trio of teens – a d...</td>\n",
       "    </tr>\n",
       "    <tr>\n",
       "      <th>847</th>\n",
       "      <td>Mad for Each Other</td>\n",
       "      <td>Bothered to realize they are next-door neighbo...</td>\n",
       "    </tr>\n",
       "    <tr>\n",
       "      <th>6932</th>\n",
       "      <td>Harry &amp; Bunnie</td>\n",
       "      <td>A young wannabe magician and his mischievous s...</td>\n",
       "    </tr>\n",
       "    <tr>\n",
       "      <th>5184</th>\n",
       "      <td>Akulah Balqis</td>\n",
       "      <td>A little girl must enter an orphanage after he...</td>\n",
       "    </tr>\n",
       "    <tr>\n",
       "      <th>8425</th>\n",
       "      <td>The Model</td>\n",
       "      <td>Danish teen Emma moves to Paris hoping to beco...</td>\n",
       "    </tr>\n",
       "    <tr>\n",
       "      <th>2643</th>\n",
       "      <td>Love 101</td>\n",
       "      <td>While trying to make their teacher fall for a ...</td>\n",
       "    </tr>\n",
       "    <tr>\n",
       "      <th>6983</th>\n",
       "      <td>Holding the Man</td>\n",
       "      <td>In 1970s Australia, two teen boys fall in love...</td>\n",
       "    </tr>\n",
       "    <tr>\n",
       "      <th>1821</th>\n",
       "      <td>Listen</td>\n",
       "      <td>A sound engineer falls for a model but after a...</td>\n",
       "    </tr>\n",
       "    <tr>\n",
       "      <th>3112</th>\n",
       "      <td>Being Mrs Elliot</td>\n",
       "      <td>When a scorned wife from the city shares a cab...</td>\n",
       "    </tr>\n",
       "  </tbody>\n",
       "</table>\n",
       "</div>"
      ],
      "text/plain": [
       "                           title  \\\n",
       "3331  Christmas in the Heartland   \n",
       "8048              Social Animals   \n",
       "847           Mad for Each Other   \n",
       "6932              Harry & Bunnie   \n",
       "5184               Akulah Balqis   \n",
       "8425                   The Model   \n",
       "2643                    Love 101   \n",
       "6983             Holding the Man   \n",
       "1821                      Listen   \n",
       "3112            Being Mrs Elliot   \n",
       "\n",
       "                                            description  \n",
       "3331  Two girls realize they're both visiting grandp...  \n",
       "8048  This documentary follows a trio of teens – a d...  \n",
       "847   Bothered to realize they are next-door neighbo...  \n",
       "6932  A young wannabe magician and his mischievous s...  \n",
       "5184  A little girl must enter an orphanage after he...  \n",
       "8425  Danish teen Emma moves to Paris hoping to beco...  \n",
       "2643  While trying to make their teacher fall for a ...  \n",
       "6983  In 1970s Australia, two teen boys fall in love...  \n",
       "1821  A sound engineer falls for a model but after a...  \n",
       "3112  When a scorned wife from the city shares a cab...  "
      ]
     },
     "execution_count": 58,
     "metadata": {},
     "output_type": "execute_result"
    }
   ],
   "source": [
    "netflix_recommendations_description('My Runway')"
   ]
  },
  {
   "cell_type": "markdown",
   "id": "815e6a29",
   "metadata": {},
   "source": [
    "# KNN Approach\n",
    "\n",
    "### Summary\n",
    "\n",
    "\n",
    "#### Introduction:\n",
    "The K-Nearest Neighbors (KNN) algorithm was utilized to recommend similar shows within the Netflix dataset based on combined textual content, including titles, descriptions, and listed categories. KNN identifies the nearest neighbors to a queried show by calculating similarity in their combined textual features.\n",
    "\n",
    "#### Methodology and Implementation:\n",
    "Data Preparation:\n",
    "\n",
    "Utilized the Netflix dataset containing show titles, descriptions, cast, and categories.\n",
    "Combined relevant text columns (title, description, listed categories) to form a single text for each show.\n",
    "TF-IDF Vectorization:\n",
    "\n",
    "Employed sklearn.feature_extraction.text.TfidfVectorizer to generate TF-IDF matrices from the combined text.\n",
    "Transformed the textual data into numerical representations using TF-IDF weights.\n",
    "KNN Algorithm:\n",
    "\n",
    "Implemented sklearn.neighbors.NearestNeighbors to build the KNN model.\n",
    "Set the number of neighbors to 5 and used the cosine similarity metric for finding the closest matches.\n",
    "Example Query and Nearest Neighbors Retrieval:\n",
    "\n",
    "Chose a query index corresponding to a specific show in the dataset.\n",
    "Obtained the combined text of the queried show.\n",
    "Calculated the TF-IDF vector for the query text.\n",
    "Applied the KNN model to find the five nearest neighbors based on textual similarities.\n",
    "Example Results:\n",
    "For instance, let's consider the query show with index 0, which corresponds to the show \"Dick Johnson\" in netflix dataset.\n",
    "#### Conclusion:\n",
    "The KNN approach effectively identifies shows with textual similarities, providing recommendations based on combined textual features. The method aids in suggesting related shows for users based on their preferences and interests."
   ]
  },
  {
   "cell_type": "code",
   "execution_count": 37,
   "id": "7fc806cc",
   "metadata": {
    "ExecuteTime": {
     "end_time": "2023-11-17T19:21:34.266259Z",
     "start_time": "2023-11-17T19:21:34.194662Z"
    }
   },
   "outputs": [],
   "source": [
    "import ast\n",
    "from sklearn.feature_extraction.text import TfidfVectorizer\n",
    "from sklearn.neighbors import NearestNeighbors"
   ]
  },
  {
   "cell_type": "code",
   "execution_count": 38,
   "id": "e7bebe54",
   "metadata": {
    "ExecuteTime": {
     "end_time": "2023-11-17T19:21:34.276653Z",
     "start_time": "2023-11-17T19:21:34.267255Z"
    }
   },
   "outputs": [
    {
     "data": {
      "text/html": [
       "<div>\n",
       "<style scoped>\n",
       "    .dataframe tbody tr th:only-of-type {\n",
       "        vertical-align: middle;\n",
       "    }\n",
       "\n",
       "    .dataframe tbody tr th {\n",
       "        vertical-align: top;\n",
       "    }\n",
       "\n",
       "    .dataframe thead th {\n",
       "        text-align: right;\n",
       "    }\n",
       "</style>\n",
       "<table border=\"1\" class=\"dataframe\">\n",
       "  <thead>\n",
       "    <tr style=\"text-align: right;\">\n",
       "      <th></th>\n",
       "      <th>show_id</th>\n",
       "      <th>type</th>\n",
       "      <th>title</th>\n",
       "      <th>director</th>\n",
       "      <th>cast</th>\n",
       "      <th>country</th>\n",
       "      <th>release_year</th>\n",
       "      <th>rating</th>\n",
       "      <th>duration</th>\n",
       "      <th>listed_in</th>\n",
       "      <th>description</th>\n",
       "      <th>year</th>\n",
       "      <th>months</th>\n",
       "    </tr>\n",
       "  </thead>\n",
       "  <tbody>\n",
       "    <tr>\n",
       "      <th>0</th>\n",
       "      <td>s1</td>\n",
       "      <td>Movie</td>\n",
       "      <td>Dick Johnson Is Dead</td>\n",
       "      <td>Kirsten Johnson</td>\n",
       "      <td>Unknown</td>\n",
       "      <td>United States</td>\n",
       "      <td>2020</td>\n",
       "      <td>PG-13</td>\n",
       "      <td>90 min</td>\n",
       "      <td>Documentaries</td>\n",
       "      <td>As her father nears the end of his life, filmm...</td>\n",
       "      <td>2021</td>\n",
       "      <td>9</td>\n",
       "    </tr>\n",
       "    <tr>\n",
       "      <th>1</th>\n",
       "      <td>s2</td>\n",
       "      <td>TV Show</td>\n",
       "      <td>Blood &amp; Water</td>\n",
       "      <td>Unknown</td>\n",
       "      <td>Ama Qamata</td>\n",
       "      <td>South Africa</td>\n",
       "      <td>2021</td>\n",
       "      <td>TV-MA</td>\n",
       "      <td>2 Seasons</td>\n",
       "      <td>International TV Shows</td>\n",
       "      <td>After crossing paths at a party, a Cape Town t...</td>\n",
       "      <td>2021</td>\n",
       "      <td>9</td>\n",
       "    </tr>\n",
       "    <tr>\n",
       "      <th>2</th>\n",
       "      <td>s3</td>\n",
       "      <td>TV Show</td>\n",
       "      <td>Ganglands</td>\n",
       "      <td>Julien Leclercq</td>\n",
       "      <td>Sami Bouajila</td>\n",
       "      <td>United States</td>\n",
       "      <td>2021</td>\n",
       "      <td>TV-MA</td>\n",
       "      <td>1 Season</td>\n",
       "      <td>Crime TV Shows</td>\n",
       "      <td>To protect his family from a powerful drug lor...</td>\n",
       "      <td>2021</td>\n",
       "      <td>9</td>\n",
       "    </tr>\n",
       "    <tr>\n",
       "      <th>3</th>\n",
       "      <td>s4</td>\n",
       "      <td>TV Show</td>\n",
       "      <td>Jailbirds New Orleans</td>\n",
       "      <td>Unknown</td>\n",
       "      <td>Unknown</td>\n",
       "      <td>United States</td>\n",
       "      <td>2021</td>\n",
       "      <td>TV-MA</td>\n",
       "      <td>1 Season</td>\n",
       "      <td>Docuseries</td>\n",
       "      <td>Feuds, flirtations and toilet talk go down amo...</td>\n",
       "      <td>2021</td>\n",
       "      <td>9</td>\n",
       "    </tr>\n",
       "    <tr>\n",
       "      <th>4</th>\n",
       "      <td>s5</td>\n",
       "      <td>TV Show</td>\n",
       "      <td>Kota Factory</td>\n",
       "      <td>Unknown</td>\n",
       "      <td>Mayur More</td>\n",
       "      <td>India</td>\n",
       "      <td>2021</td>\n",
       "      <td>TV-MA</td>\n",
       "      <td>2 Seasons</td>\n",
       "      <td>International TV Shows</td>\n",
       "      <td>In a city of coaching centers known to train I...</td>\n",
       "      <td>2021</td>\n",
       "      <td>9</td>\n",
       "    </tr>\n",
       "  </tbody>\n",
       "</table>\n",
       "</div>"
      ],
      "text/plain": [
       "  show_id     type                  title         director           cast  \\\n",
       "0      s1    Movie   Dick Johnson Is Dead  Kirsten Johnson        Unknown   \n",
       "1      s2  TV Show          Blood & Water          Unknown     Ama Qamata   \n",
       "2      s3  TV Show              Ganglands  Julien Leclercq  Sami Bouajila   \n",
       "3      s4  TV Show  Jailbirds New Orleans          Unknown        Unknown   \n",
       "4      s5  TV Show           Kota Factory          Unknown     Mayur More   \n",
       "\n",
       "         country  release_year rating   duration               listed_in  \\\n",
       "0  United States          2020  PG-13     90 min           Documentaries   \n",
       "1   South Africa          2021  TV-MA  2 Seasons  International TV Shows   \n",
       "2  United States          2021  TV-MA   1 Season          Crime TV Shows   \n",
       "3  United States          2021  TV-MA   1 Season              Docuseries   \n",
       "4          India          2021  TV-MA  2 Seasons  International TV Shows   \n",
       "\n",
       "                                         description  year  months  \n",
       "0  As her father nears the end of his life, filmm...  2021       9  \n",
       "1  After crossing paths at a party, a Cape Town t...  2021       9  \n",
       "2  To protect his family from a powerful drug lor...  2021       9  \n",
       "3  Feuds, flirtations and toilet talk go down amo...  2021       9  \n",
       "4  In a city of coaching centers known to train I...  2021       9  "
      ]
     },
     "execution_count": 38,
     "metadata": {},
     "output_type": "execute_result"
    }
   ],
   "source": [
    "df6 = df4.copy()\n",
    "df6.head()"
   ]
  },
  {
   "cell_type": "code",
   "execution_count": 39,
   "id": "5ba1c214",
   "metadata": {
    "ExecuteTime": {
     "end_time": "2023-11-17T19:21:34.288295Z",
     "start_time": "2023-11-17T19:21:34.277646Z"
    }
   },
   "outputs": [],
   "source": [
    "# Concatenate text columns to create a single text for each show\n",
    "df6['combined_text'] = df6['title'] + ' ' + df6['description'] + ' ' + df6['listed_in']"
   ]
  },
  {
   "cell_type": "code",
   "execution_count": 40,
   "id": "ad52a6b6",
   "metadata": {
    "ExecuteTime": {
     "end_time": "2023-11-17T19:21:34.466800Z",
     "start_time": "2023-11-17T19:21:34.289506Z"
    }
   },
   "outputs": [],
   "source": [
    "# Create TF-IDF vectorizer\n",
    "tfidf_vectorizer = TfidfVectorizer(stop_words='english')\n",
    "\n",
    "# Fit and transform the combined text using TF-IDF vectorizer\n",
    "tfidf_matrix = tfidf_vectorizer.fit_transform(df6['combined_text'])\n",
    "\n",
    "# elect relevant columns for analysis\n",
    "selected_columns = ['title', 'description', 'listed_in']\n",
    "netflix_subset = df6[selected_columns]"
   ]
  },
  {
   "cell_type": "code",
   "execution_count": 41,
   "id": "b9751de1",
   "metadata": {
    "ExecuteTime": {
     "end_time": "2023-11-17T19:21:34.472084Z",
     "start_time": "2023-11-17T19:21:34.467726Z"
    }
   },
   "outputs": [
    {
     "data": {
      "text/html": [
       "<style>#sk-container-id-1 {color: black;}#sk-container-id-1 pre{padding: 0;}#sk-container-id-1 div.sk-toggleable {background-color: white;}#sk-container-id-1 label.sk-toggleable__label {cursor: pointer;display: block;width: 100%;margin-bottom: 0;padding: 0.3em;box-sizing: border-box;text-align: center;}#sk-container-id-1 label.sk-toggleable__label-arrow:before {content: \"▸\";float: left;margin-right: 0.25em;color: #696969;}#sk-container-id-1 label.sk-toggleable__label-arrow:hover:before {color: black;}#sk-container-id-1 div.sk-estimator:hover label.sk-toggleable__label-arrow:before {color: black;}#sk-container-id-1 div.sk-toggleable__content {max-height: 0;max-width: 0;overflow: hidden;text-align: left;background-color: #f0f8ff;}#sk-container-id-1 div.sk-toggleable__content pre {margin: 0.2em;color: black;border-radius: 0.25em;background-color: #f0f8ff;}#sk-container-id-1 input.sk-toggleable__control:checked~div.sk-toggleable__content {max-height: 200px;max-width: 100%;overflow: auto;}#sk-container-id-1 input.sk-toggleable__control:checked~label.sk-toggleable__label-arrow:before {content: \"▾\";}#sk-container-id-1 div.sk-estimator input.sk-toggleable__control:checked~label.sk-toggleable__label {background-color: #d4ebff;}#sk-container-id-1 div.sk-label input.sk-toggleable__control:checked~label.sk-toggleable__label {background-color: #d4ebff;}#sk-container-id-1 input.sk-hidden--visually {border: 0;clip: rect(1px 1px 1px 1px);clip: rect(1px, 1px, 1px, 1px);height: 1px;margin: -1px;overflow: hidden;padding: 0;position: absolute;width: 1px;}#sk-container-id-1 div.sk-estimator {font-family: monospace;background-color: #f0f8ff;border: 1px dotted black;border-radius: 0.25em;box-sizing: border-box;margin-bottom: 0.5em;}#sk-container-id-1 div.sk-estimator:hover {background-color: #d4ebff;}#sk-container-id-1 div.sk-parallel-item::after {content: \"\";width: 100%;border-bottom: 1px solid gray;flex-grow: 1;}#sk-container-id-1 div.sk-label:hover label.sk-toggleable__label {background-color: #d4ebff;}#sk-container-id-1 div.sk-serial::before {content: \"\";position: absolute;border-left: 1px solid gray;box-sizing: border-box;top: 0;bottom: 0;left: 50%;z-index: 0;}#sk-container-id-1 div.sk-serial {display: flex;flex-direction: column;align-items: center;background-color: white;padding-right: 0.2em;padding-left: 0.2em;position: relative;}#sk-container-id-1 div.sk-item {position: relative;z-index: 1;}#sk-container-id-1 div.sk-parallel {display: flex;align-items: stretch;justify-content: center;background-color: white;position: relative;}#sk-container-id-1 div.sk-item::before, #sk-container-id-1 div.sk-parallel-item::before {content: \"\";position: absolute;border-left: 1px solid gray;box-sizing: border-box;top: 0;bottom: 0;left: 50%;z-index: -1;}#sk-container-id-1 div.sk-parallel-item {display: flex;flex-direction: column;z-index: 1;position: relative;background-color: white;}#sk-container-id-1 div.sk-parallel-item:first-child::after {align-self: flex-end;width: 50%;}#sk-container-id-1 div.sk-parallel-item:last-child::after {align-self: flex-start;width: 50%;}#sk-container-id-1 div.sk-parallel-item:only-child::after {width: 0;}#sk-container-id-1 div.sk-dashed-wrapped {border: 1px dashed gray;margin: 0 0.4em 0.5em 0.4em;box-sizing: border-box;padding-bottom: 0.4em;background-color: white;}#sk-container-id-1 div.sk-label label {font-family: monospace;font-weight: bold;display: inline-block;line-height: 1.2em;}#sk-container-id-1 div.sk-label-container {text-align: center;}#sk-container-id-1 div.sk-container {/* jupyter's `normalize.less` sets `[hidden] { display: none; }` but bootstrap.min.css set `[hidden] { display: none !important; }` so we also need the `!important` here to be able to override the default hidden behavior on the sphinx rendered scikit-learn.org. See: https://github.com/scikit-learn/scikit-learn/issues/21755 */display: inline-block !important;position: relative;}#sk-container-id-1 div.sk-text-repr-fallback {display: none;}</style><div id=\"sk-container-id-1\" class=\"sk-top-container\"><div class=\"sk-text-repr-fallback\"><pre>NearestNeighbors(algorithm=&#x27;brute&#x27;, metric=&#x27;cosine&#x27;)</pre><b>In a Jupyter environment, please rerun this cell to show the HTML representation or trust the notebook. <br />On GitHub, the HTML representation is unable to render, please try loading this page with nbviewer.org.</b></div><div class=\"sk-container\" hidden><div class=\"sk-item\"><div class=\"sk-estimator sk-toggleable\"><input class=\"sk-toggleable__control sk-hidden--visually\" id=\"sk-estimator-id-1\" type=\"checkbox\" checked><label for=\"sk-estimator-id-1\" class=\"sk-toggleable__label sk-toggleable__label-arrow\">NearestNeighbors</label><div class=\"sk-toggleable__content\"><pre>NearestNeighbors(algorithm=&#x27;brute&#x27;, metric=&#x27;cosine&#x27;)</pre></div></div></div></div></div>"
      ],
      "text/plain": [
       "NearestNeighbors(algorithm='brute', metric='cosine')"
      ]
     },
     "execution_count": 41,
     "metadata": {},
     "output_type": "execute_result"
    }
   ],
   "source": [
    "# Apply KNN algorithm for document retrieval\n",
    "# Set up NearestNeighbors model\n",
    "knn_model = NearestNeighbors(n_neighbors=5, algorithm='brute', metric='cosine')\n",
    "knn_model.fit(tfidf_matrix)"
   ]
  },
  {
   "cell_type": "code",
   "execution_count": 42,
   "id": "bbef91ba",
   "metadata": {
    "ExecuteTime": {
     "end_time": "2023-11-17T19:21:34.475220Z",
     "start_time": "2023-11-17T19:21:34.473048Z"
    }
   },
   "outputs": [],
   "source": [
    "# Example query\n",
    "query_index = 0  # Change this index for different queries\n",
    "query_text = df6.loc[query_index, 'combined_text']"
   ]
  },
  {
   "cell_type": "code",
   "execution_count": 43,
   "id": "47cc4c7e",
   "metadata": {
    "ExecuteTime": {
     "end_time": "2023-11-17T19:21:34.485279Z",
     "start_time": "2023-11-17T19:21:34.476189Z"
    }
   },
   "outputs": [
    {
     "name": "stdout",
     "output_type": "stream",
     "text": [
      "     show_id   type                                    title         director  \\\n",
      "0         s1  Movie                     Dick Johnson Is Dead  Kirsten Johnson   \n",
      "5233   s5234  Movie  The Death and Life of Marsha P. Johnson     David France   \n",
      "4877   s4878  Movie                                 End Game      Rob Epstein   \n",
      "3891   s3892  Movie      ReMastered: Devil at the Crossroads      Brian Oakes   \n",
      "5894   s5895  Movie               Anjelah Johnson: Not Fancy        Jay Karas   \n",
      "\n",
      "                       cast        country  release_year rating duration  \\\n",
      "0                   Unknown  United States          2020  PG-13   90 min   \n",
      "5233                Unknown         Greece          2017  TV-MA  106 min   \n",
      "4877                Unknown  United States          2018  TV-PG   40 min   \n",
      "3891                Unknown  United States          2019  TV-14   49 min   \n",
      "5894  Anjelah Johnson-Reyes  United States          2015  TV-14   64 min   \n",
      "\n",
      "            listed_in                                        description  \\\n",
      "0       Documentaries  As her father nears the end of his life, filmm...   \n",
      "5233    Documentaries  As she fights the tide of violence against tra...   \n",
      "4877    Documentaries  Facing an inevitable outcome, terminally ill p...   \n",
      "3891    Documentaries  Cloaked in mystery, bluesman Robert Johnson le...   \n",
      "5894  Stand-Up Comedy  The actress, comedian and YouTube sensation ri...   \n",
      "\n",
      "      year  months                                      combined_text  \n",
      "0     2021       9  Dick Johnson Is Dead As her father nears the e...  \n",
      "5233  2017      10  The Death and Life of Marsha P. Johnson As she...  \n",
      "4877  2018       5  End Game Facing an inevitable outcome, termina...  \n",
      "3891  2019       4  ReMastered: Devil at the Crossroads Cloaked in...  \n",
      "5894  2015      10  Anjelah Johnson: Not Fancy The actress, comedi...  \n"
     ]
    }
   ],
   "source": [
    "# Transform the query using TF-IDF\n",
    "query_tfidf = tfidf_vectorizer.transform([query_text])\n",
    "\n",
    "# Find nearest neighbors for the query\n",
    "distances, indices = knn_model.kneighbors(query_tfidf)\n",
    "\n",
    "# Display nearest neighbors\n",
    "nearest_neighbors = df6.iloc[indices[0]]\n",
    "print(nearest_neighbors)"
   ]
  },
  {
   "cell_type": "markdown",
   "id": "354a62bb",
   "metadata": {},
   "source": [
    "# K-Means Clustering Approach\n",
    "\n",
    "### Summary\n",
    "#### Introduction:\n",
    "K-Means clustering was applied to the Netflix dataset to group shows into clusters based on their textual information. This method aimed to partition shows into distinct groups by finding similarities in their combined textual features.\n",
    "\n",
    "#### Methodology and Implementation:\n",
    "Data Preparation:\n",
    "\n",
    "Employed the Netflix dataset containing show titles, descriptions, and listed categories.\n",
    "Created a combined text representation by concatenating relevant columns (title, description, listed categories) for each show.\n",
    "TF-IDF Vectorization:\n",
    "\n",
    "Utilized sklearn.feature_extraction.text.TfidfVectorizer to generate TF-IDF matrices from the combined text.\n",
    "Transformed the textual data into numerical representations using TF-IDF weights.\n",
    "Determining Optimal Clusters:\n",
    "\n",
    "Used a for loop to iterate from 2 to 10 clusters.\n",
    "For each cluster value, trained a K-Means model and computed silhouette scores to evaluate cluster quality.\n",
    "Calculated silhouette scores using sklearn.metrics.silhouette_score for different cluster sizes.\n",
    "Elbow Method Visualization:\n",
    "\n",
    "Plotted the silhouette scores against the number of clusters to visualize the optimal cluster selection using silhouette analysis.\n",
    "Generated an Elbow plot to observe the within-cluster sum of squares against the number of clusters.\n",
    "Final Model and Evaluation:\n",
    "\n",
    "Trained the K-Means model with the chosen number of clusters (e.g., 12 clusters) based on the insights gained from silhouette scores.\n",
    "Predicted cluster labels for the shows and evaluated the final silhouette score for the chosen model configuration.\n",
    "#### Conclusion:\n",
    "K-Means clustering effectively grouped shows into clusters based on their textual content. The silhouette analysis and Elbow Method aided in determining the optimal number of clusters, enabling efficient categorization of shows into distinct groups for better organization or recommendation purposes."
   ]
  },
  {
   "cell_type": "code",
   "execution_count": 57,
   "id": "ed5b99fc",
   "metadata": {
    "ExecuteTime": {
     "end_time": "2023-11-17T19:21:34.549613Z",
     "start_time": "2023-11-17T19:21:34.496095Z"
    }
   },
   "outputs": [],
   "source": [
    "from sklearn.cluster import KMeans  \n",
    "from sklearn.metrics import silhouette_score"
   ]
  },
  {
   "cell_type": "code",
   "execution_count": 54,
   "id": "7a95c670",
   "metadata": {
    "ExecuteTime": {
     "end_time": "2023-11-17T19:22:04.719886Z",
     "start_time": "2023-11-17T19:21:34.550493Z"
    }
   },
   "outputs": [
    {
     "name": "stderr",
     "output_type": "stream",
     "text": [
      "/Users/yuntzuyu/opt/anaconda3/lib/python3.9/site-packages/sklearn/cluster/_kmeans.py:1416: FutureWarning: The default value of `n_init` will change from 10 to 'auto' in 1.4. Set the value of `n_init` explicitly to suppress the warning\n",
      "  super()._check_params_vs_input(X, default_n_init=10)\n"
     ]
    },
    {
     "name": "stdout",
     "output_type": "stream",
     "text": [
      "For n_clusters = 2, Silhouette score is 0.002357\n"
     ]
    },
    {
     "name": "stderr",
     "output_type": "stream",
     "text": [
      "/Users/yuntzuyu/opt/anaconda3/lib/python3.9/site-packages/sklearn/cluster/_kmeans.py:1416: FutureWarning: The default value of `n_init` will change from 10 to 'auto' in 1.4. Set the value of `n_init` explicitly to suppress the warning\n",
      "  super()._check_params_vs_input(X, default_n_init=10)\n"
     ]
    },
    {
     "name": "stdout",
     "output_type": "stream",
     "text": [
      "For n_clusters = 3, Silhouette score is 0.003692\n"
     ]
    },
    {
     "name": "stderr",
     "output_type": "stream",
     "text": [
      "/Users/yuntzuyu/opt/anaconda3/lib/python3.9/site-packages/sklearn/cluster/_kmeans.py:1416: FutureWarning: The default value of `n_init` will change from 10 to 'auto' in 1.4. Set the value of `n_init` explicitly to suppress the warning\n",
      "  super()._check_params_vs_input(X, default_n_init=10)\n"
     ]
    },
    {
     "name": "stdout",
     "output_type": "stream",
     "text": [
      "For n_clusters = 4, Silhouette score is 0.004101\n"
     ]
    },
    {
     "name": "stderr",
     "output_type": "stream",
     "text": [
      "/Users/yuntzuyu/opt/anaconda3/lib/python3.9/site-packages/sklearn/cluster/_kmeans.py:1416: FutureWarning: The default value of `n_init` will change from 10 to 'auto' in 1.4. Set the value of `n_init` explicitly to suppress the warning\n",
      "  super()._check_params_vs_input(X, default_n_init=10)\n"
     ]
    },
    {
     "name": "stdout",
     "output_type": "stream",
     "text": [
      "For n_clusters = 5, Silhouette score is 0.005013\n"
     ]
    },
    {
     "name": "stderr",
     "output_type": "stream",
     "text": [
      "/Users/yuntzuyu/opt/anaconda3/lib/python3.9/site-packages/sklearn/cluster/_kmeans.py:1416: FutureWarning: The default value of `n_init` will change from 10 to 'auto' in 1.4. Set the value of `n_init` explicitly to suppress the warning\n",
      "  super()._check_params_vs_input(X, default_n_init=10)\n"
     ]
    },
    {
     "name": "stdout",
     "output_type": "stream",
     "text": [
      "For n_clusters = 6, Silhouette score is 0.006101\n"
     ]
    },
    {
     "name": "stderr",
     "output_type": "stream",
     "text": [
      "/Users/yuntzuyu/opt/anaconda3/lib/python3.9/site-packages/sklearn/cluster/_kmeans.py:1416: FutureWarning: The default value of `n_init` will change from 10 to 'auto' in 1.4. Set the value of `n_init` explicitly to suppress the warning\n",
      "  super()._check_params_vs_input(X, default_n_init=10)\n"
     ]
    },
    {
     "name": "stdout",
     "output_type": "stream",
     "text": [
      "For n_clusters = 7, Silhouette score is 0.007008\n"
     ]
    },
    {
     "name": "stderr",
     "output_type": "stream",
     "text": [
      "/Users/yuntzuyu/opt/anaconda3/lib/python3.9/site-packages/sklearn/cluster/_kmeans.py:1416: FutureWarning: The default value of `n_init` will change from 10 to 'auto' in 1.4. Set the value of `n_init` explicitly to suppress the warning\n",
      "  super()._check_params_vs_input(X, default_n_init=10)\n"
     ]
    },
    {
     "name": "stdout",
     "output_type": "stream",
     "text": [
      "For n_clusters = 8, Silhouette score is 0.006404\n"
     ]
    },
    {
     "name": "stderr",
     "output_type": "stream",
     "text": [
      "/Users/yuntzuyu/opt/anaconda3/lib/python3.9/site-packages/sklearn/cluster/_kmeans.py:1416: FutureWarning: The default value of `n_init` will change from 10 to 'auto' in 1.4. Set the value of `n_init` explicitly to suppress the warning\n",
      "  super()._check_params_vs_input(X, default_n_init=10)\n"
     ]
    },
    {
     "name": "stdout",
     "output_type": "stream",
     "text": [
      "For n_clusters = 9, Silhouette score is 0.007074\n"
     ]
    },
    {
     "name": "stderr",
     "output_type": "stream",
     "text": [
      "/Users/yuntzuyu/opt/anaconda3/lib/python3.9/site-packages/sklearn/cluster/_kmeans.py:1416: FutureWarning: The default value of `n_init` will change from 10 to 'auto' in 1.4. Set the value of `n_init` explicitly to suppress the warning\n",
      "  super()._check_params_vs_input(X, default_n_init=10)\n"
     ]
    },
    {
     "name": "stdout",
     "output_type": "stream",
     "text": [
      "For n_clusters = 10, Silhouette score is 0.006636\n"
     ]
    }
   ],
   "source": [
    "silhouette_scores = []  \n",
    "within_cluster_sum_of_squares = []  \n",
    "#Using for loop for iterations from 2 to 10.  \n",
    "\n",
    "for cluster in range(2, 11):  \n",
    "    kmeans = KMeans(n_clusters=cluster,random_state= 100)  \n",
    "    kmeans.fit(tfidf_matrix )  \n",
    "    preds = kmeans.predict(tfidf_matrix )\n",
    "    score = silhouette_score(tfidf_matrix , preds)\n",
    "    print(\"For n_clusters = %d, Silhouette score is %6f\" % (cluster, score))\n",
    "    silhouette_scores.append(kmeans.inertia_) \n",
    "    within_cluster_sum_of_squares.append(kmeans.inertia_)"
   ]
  },
  {
   "cell_type": "code",
   "execution_count": 56,
   "id": "be37b127",
   "metadata": {},
   "outputs": [
    {
     "data": {
      "image/png": "[encoded data removed]",
      "text/plain": [
       "<Figure size 864x288 with 2 Axes>"
      ]
     },
     "metadata": {
      "needs_background": "light"
     },
     "output_type": "display_data"
    }
   ],
   "source": [
    "# Plotting the Elbow Method\n",
    "fig, ax = plt.subplots(1, 2, figsize=(12, 4))\n",
    "\n",
    "# Plotting Silhouette scores\n",
    "ax[0].plot(range(2, 11), silhouette_scores, marker='o')\n",
    "ax[0].set_xlabel('Number of Clusters')\n",
    "ax[0].set_ylabel('Silhouette Score')\n",
    "ax[0].set_title('Silhouette Score vs Number of Clusters')\n",
    "\n",
    "# Plotting Within-cluster sum of squares (Elbow plot)\n",
    "ax[1].plot(range(2, 11), within_cluster_sum_of_squares, marker='o')\n",
    "ax[1].set_xlabel('Number of Clusters')\n",
    "ax[1].set_ylabel('Within-cluster Sum of Squares')\n",
    "ax[1].set_title('Elbow Method: Within-cluster Sum of Squares vs Number of Clusters')\n",
    "\n",
    "plt.tight_layout()\n",
    "plt.show()"
   ]
  },
  {
   "cell_type": "code",
   "execution_count": 47,
   "id": "6afc8dd9",
   "metadata": {
    "ExecuteTime": {
     "end_time": "2023-11-17T19:22:07.017748Z",
     "start_time": "2023-11-17T19:22:04.809822Z"
    }
   },
   "outputs": [
    {
     "name": "stderr",
     "output_type": "stream",
     "text": [
      "/Users/yuntzuyu/opt/anaconda3/lib/python3.9/site-packages/sklearn/cluster/_kmeans.py:1416: FutureWarning: The default value of `n_init` will change from 10 to 'auto' in 1.4. Set the value of `n_init` explicitly to suppress the warning\n",
      "  super()._check_params_vs_input(X, default_n_init=10)\n"
     ]
    }
   ],
   "source": [
    "#training the K-means model on a dataset  \n",
    "kmeans = KMeans(n_clusters= 12, init='k-means++', random_state= 100)  \n",
    "y_predict= kmeans.fit_predict(tfidf_matrix) "
   ]
  },
  {
   "cell_type": "code",
   "execution_count": 48,
   "id": "21cc8a32",
   "metadata": {
    "ExecuteTime": {
     "end_time": "2023-11-17T19:22:07.881955Z",
     "start_time": "2023-11-17T19:22:07.019184Z"
    }
   },
   "outputs": [
    {
     "name": "stdout",
     "output_type": "stream",
     "text": [
      "Silhouette score is 0.006838\n"
     ]
    }
   ],
   "source": [
    "#Predict the clusters and evaluate the silhouette score\n",
    "score = silhouette_score(tfidf_matrix, y_predict)\n",
    "print(\"Silhouette score is %6f\" % (score))"
   ]
  }
 ],
 "metadata": {
  "kernelspec": {
   "display_name": "Python 3 (ipykernel)",
   "language": "python",
   "name": "python3"
  },
  "language_info": {
   "codemirror_mode": {
    "name": "ipython",
    "version": 3
   },
   "file_extension": ".py",
   "mimetype": "text/x-python",
   "name": "python",
   "nbconvert_exporter": "python",
   "pygments_lexer": "ipython3",
   "version": "3.9.12"
  },
  "varInspector": {
   "cols": {
    "lenName": 16,
    "lenType": 16,
    "lenVar": 40
   },
   "kernels_config": {
    "python": {
     "delete_cmd_postfix": "",
     "delete_cmd_prefix": "del ",
     "library": "var_list.py",
     "varRefreshCmd": "print(var_dic_list())"
    },
    "r": {
     "delete_cmd_postfix": ") ",
     "delete_cmd_prefix": "rm(",
     "library": "var_list.r",
     "varRefreshCmd": "cat(var_dic_list()) "
    }
   },
   "types_to_exclude": [
    "module",
    "function",
    "builtin_function_or_method",
    "instance",
    "_Feature"
   ],
   "window_display": false
  }
 },
 "nbformat": 4,
 "nbformat_minor": 5
}
